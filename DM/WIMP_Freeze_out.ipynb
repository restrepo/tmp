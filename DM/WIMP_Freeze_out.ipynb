{
  "nbformat": 4,
  "nbformat_minor": 0,
  "metadata": {
    "colab": {
      "name": "WF.ipynb",
      "version": "0.3.2",
      "provenance": [],
      "collapsed_sections": [],
      "include_colab_link": true
    },
    "kernelspec": {
      "display_name": "Python 3",
      "language": "python",
      "name": "python3"
    }
  },
  "cells": [
    {
      "cell_type": "markdown",
      "metadata": {
        "id": "view-in-github",
        "colab_type": "text"
      },
      "source": [
        "[View in Colaboratory](https://colab.research.google.com/github/restrepo/tmp/blob/master/DM/WIMP_Freeze_out.ipynb)"
      ]
    },
    {
      "metadata": {
        "id": "qFOeVPf9k7aL",
        "colab_type": "text"
      },
      "cell_type": "markdown",
      "source": [
        "# Dark Matter Boltzmann equation\n",
        "\n",
        "This program is made to reproduce the behavior of dark matter yield in WIMP and FIMP frameworks based on Chapter 5th, Kolb Turner (Early Universe)"
      ]
    },
    {
      "metadata": {
        "id": "MfyBj2Vqk7aS",
        "colab_type": "code",
        "colab": {}
      },
      "cell_type": "code",
      "source": [
        "import matplotlib.pyplot as plt\n",
        "%matplotlib inline  \n",
        "import numpy as np\n",
        "from numpy import arange\n",
        "import scipy \n",
        "import scipy.integrate as integrate\n",
        "from scipy.integrate import odeint"
      ],
      "execution_count": 0,
      "outputs": []
    },
    {
      "metadata": {
        "id": "kfDBXgSBk7aj",
        "colab_type": "code",
        "colab": {}
      },
      "cell_type": "code",
      "source": [
        "# parameters\n",
        "\n",
        "Ms = 100                                #GeV Singlet Mass\n",
        "Mp = 1.22e19                            #GeV Planck Mass\n",
        "g = 100                                 # Degrees of freedom\n",
        "gs = 106.75                             # Entropy degrees of freedom\n",
        "H0 = 2.133*(0.7)*1e-42                   # GeV Hubble parameter (unused)"
      ],
      "execution_count": 0,
      "outputs": []
    },
    {
      "metadata": {
        "id": "Rbeje9bVk7au",
        "colab_type": "text"
      },
      "cell_type": "markdown",
      "source": [
        "## Equilibrium distribution"
      ]
    },
    {
      "metadata": {
        "id": "fxQO08Fxk7ay",
        "colab_type": "text"
      },
      "cell_type": "markdown",
      "source": [
        "Here we consider thermal production of dark matter particles.\n",
        "The equilibrium distribution of this particles is consider for the non-relativistic case, as follows (see eq 5.25):\n",
        "\n",
        "$$Y_{EQ}(x) = \\frac{45}{2\\pi^{4}}\\frac{g}{g_{*s}} x^{3/2} e^{-x} = 0.145\\frac{g}{g_{*s}} x^{3/2} e^{-x}\\,, $$\n",
        "\n",
        "where $x = M / T$ and $M= 100$ GeV is the singlet mass taken as constant."
      ]
    },
    {
      "metadata": {
        "id": "GJxvJbwLk7a2",
        "colab_type": "code",
        "colab": {}
      },
      "cell_type": "code",
      "source": [
        "#  Equilibrium distribution test\n",
        "\n",
        "\n",
        "def Yeq(x):\n",
        "    return 0.145*(g/gs)*(x)**(3/2)*np.exp(-x)\n",
        "\n",
        "xi=1E-4\n",
        "xe=1000\n",
        "npts=3000\n",
        "# For several order of magnitude: \n",
        "x = np.linspace(0.01, 1000, 1000)"
      ],
      "execution_count": 0,
      "outputs": []
    },
    {
      "metadata": {
        "id": "HNNmxK9rDwZZ",
        "colab_type": "code",
        "colab": {}
      },
      "cell_type": "code",
      "source": [
        "x=np.logspace( np.log10( xi) , np.log10( xe) ,npts  )"
      ],
      "execution_count": 0,
      "outputs": []
    },
    {
      "metadata": {
        "id": "Q-8mL9WWk7bB",
        "colab_type": "code",
        "colab": {
          "base_uri": "https://localhost:8080/",
          "height": 290
        },
        "outputId": "2ced7886-c6a0-433c-9168-90db4059d375"
      },
      "cell_type": "code",
      "source": [
        "plt.loglog(x, Yeq(x))\n",
        "plt.ylim(ymax=0.1,ymin=1e-20)\n",
        "plt.xlim(xmax=1e3,xmin=1)\n",
        "plt.xlabel('$x = M/T$', size= 15)\n",
        "plt.ylabel('$Y_{EQ}$', size= 15)\n",
        "plt.grid(True)"
      ],
      "execution_count": 61,
      "outputs": [
        {
          "output_type": "display_data",
          "data": {
            "image/png": "[encoded data removed]",
            "text/plain": [
              "<matplotlib.figure.Figure at 0x7ff02c1157b8>"
            ]
          },
          "metadata": {
            "tags": []
          }
        }
      ]
    },
    {
      "metadata": {
        "id": "6eWN3WOvk7bP",
        "colab_type": "text"
      },
      "cell_type": "markdown",
      "source": [
        "## Boltzmann equation"
      ]
    },
    {
      "metadata": {
        "id": "RcCQmqVMk7bS",
        "colab_type": "text"
      },
      "cell_type": "markdown",
      "source": [
        "The general expresion for the thermal evolution of DM is as follows (see eq (5.26) Kolb and Turner ):\n",
        "\n",
        "$$ \\frac{x}{Y_{EQ}(x)}\\frac{dY}{dx} =-\\frac{n_{EQ}(x)\\langle \\sigma v \\rangle}{H(x)}\\left[\\left(\\frac{Y}{Y_{EQ}(x)}\\right)^{2} - 1\\right]\\,, $$\n",
        "\n",
        "donde\n",
        "$$n_{EQ} (x)= 2\\left( \\frac{M^{2}}{2\\pi x}\\right)^{3/2} e^{-x}$$ \n",
        "and \n",
        "$$H(x) = 1.67 x^{-2} g_{*}^{1/2}\\frac{M^{2}}{Mp}$$    see ( eq 5.16)"
      ]
    },
    {
      "metadata": {
        "id": "0Ox2eXrZk7bX",
        "colab_type": "text"
      },
      "cell_type": "markdown",
      "source": [
        "## WIMP "
      ]
    },
    {
      "metadata": {
        "id": "8r1qLtSXk7bc",
        "colab_type": "text"
      },
      "cell_type": "markdown",
      "source": [
        "The initial condition to solve the evolution equation is $Y(x_i) = Y_{EQ}$, where $x_i=0.01$, such that $T_i=M/x_i=10^4\\ $GeV."
      ]
    },
    {
      "metadata": {
        "id": "HDy2OVB6B36w",
        "colab_type": "text"
      },
      "cell_type": "markdown",
      "source": [
        ""
      ]
    },
    {
      "metadata": {
        "id": "CCa0bZIfk7bf",
        "colab_type": "code",
        "colab": {}
      },
      "cell_type": "code",
      "source": [
        "sigmav=[1.7475568196239999e-09,1.7475568196239999e-06]\n",
        "def eqd(yl,x,Ms = 100,σv = sigmav[0]):\n",
        "    '''\n",
        "    Ms  [GeV]     : Singlet Mass\n",
        "    σv: [1/GeV^2] : ⟨σv⟩\n",
        "    '''\n",
        "    \n",
        "    Mp = 1.22e19                            \n",
        "    g = 100                                 # Degrees of freedom\n",
        "    gs = 106.75                             # Entropy degrees of freedom\n",
        "    \n",
        "    H = 1.67*g**(1/2)*Ms**2/Mp\n",
        "    \n",
        "    dyl = -2*(((Ms**2/(2*np.pi*x))**(3/2)*np.exp(-x))*σv/(x**(-2)*H*x))*(yl**2 - (0.145*(g/gs)*(x)**(3/2)*np.exp(-x))**2)\n",
        "    \n",
        "    return dyl\n",
        "    \n",
        "    "
      ],
      "execution_count": 0,
      "outputs": []
    },
    {
      "metadata": {
        "id": "55PQ1h0lk7bp",
        "colab_type": "code",
        "colab": {
          "base_uri": "https://localhost:8080/",
          "height": 34
        },
        "outputId": "310e0a3c-8ff0-46b8-d3b2-ef8ebdb4cdf7"
      },
      "cell_type": "code",
      "source": [
        "#Test the function\n",
        "eqd(0.005,1)"
      ],
      "execution_count": 63,
      "outputs": [
        {
          "output_type": "execute_result",
          "data": {
            "text/plain": [
              "14742851.795673216"
            ]
          },
          "metadata": {
            "tags": []
          },
          "execution_count": 63
        }
      ]
    },
    {
      "metadata": {
        "id": "Ko82KOzZ-jMJ",
        "colab_type": "code",
        "colab": {}
      },
      "cell_type": "code",
      "source": [
        "#Condiciones iniciales\n",
        "\n",
        "y0 = Yeq(x[0])\n",
        "\n",
        "yl =  odeint( eqd, y0, x,args=(Ms,sigmav[0]) )\n",
        "yl1 = odeint( eqd, y0, x,args=(Ms,sigmav[1]) )\n"
      ],
      "execution_count": 0,
      "outputs": []
    },
    {
      "metadata": {
        "id": "bq9orPWqk7b_",
        "colab_type": "text"
      },
      "cell_type": "markdown",
      "source": [
        "The following plot can be find in the reference book (Figure 5.1)"
      ]
    },
    {
      "metadata": {
        "id": "HlrFpyGwk7cC",
        "colab_type": "code",
        "colab": {
          "base_uri": "https://localhost:8080/",
          "height": 309
        },
        "outputId": "90cde65c-7036-43d9-a826-72e375dad0fc"
      },
      "cell_type": "code",
      "source": [
        "plt.loglog(x,yl, label = r'$\\langle σ v\\rangle = 1.74 \\times 10^{-9} {\\rm GeV}^{-2}$')\n",
        "plt.loglog(x,yl1, label = r'$\\langle σ v\\rangle = 1.74 \\times 10^{-6} {\\rm GeV}^{-2}$')\n",
        "plt.loglog(x,Yeq(x), '--', label = '$Y_{EQ}$')\n",
        "plt.ylim(ymax=0.1,ymin=1e-20)\n",
        "plt.xlim(xmax=1e3,xmin=1)\n",
        "plt.xlabel('$x = M/T$', size= 15)\n",
        "plt.ylabel('$Y$', size= 15)\n",
        "plt.title('$M = 100$ GeV', size= 15)\n",
        "plt.legend(loc='best',fontsize=10)\n",
        "plt.grid(True)"
      ],
      "execution_count": 65,
      "outputs": [
        {
          "output_type": "display_data",
          "data": {
            "image/png": "[encoded data removed]",
            "text/plain": [
              "<matplotlib.figure.Figure at 0x7ff02c0f6ef0>"
            ]
          },
          "metadata": {
            "tags": []
          }
        }
      ]
    },
    {
      "metadata": {
        "id": "MsUsacLWk7cP",
        "colab_type": "text"
      },
      "cell_type": "markdown",
      "source": [
        "## FIMP"
      ]
    },
    {
      "metadata": {
        "id": "YqMo7dsuk7cR",
        "colab_type": "text"
      },
      "cell_type": "markdown",
      "source": [
        "For this framework the initial condition is $Y(T >> M)= 0$. From this, in the general evolution equation, the contribution of $Y$ is negligible so the term $Y/Y_{EQ} \\sim 0$, so the equation turns into:\n",
        "\n",
        "$$ \\frac{dY}{dx} =\\frac{\\Gamma}{xH(x)}\\left(Y_{EQ}(x) ^{2}\\right)\\,, $$"
      ]
    },
    {
      "metadata": {
        "id": "aQv5tqCRF82u",
        "colab_type": "code",
        "colab": {
          "base_uri": "https://localhost:8080/",
          "height": 34
        },
        "outputId": "7e623474-95e3-49cc-ee65-b34814b09b91"
      },
      "cell_type": "code",
      "source": [
        "#Ms=1, \n",
        "def sv(λ,A=5.2e-32/1E-11**2):\n",
        "    return A*λ**2\n",
        "sv(1E-10)"
      ],
      "execution_count": 75,
      "outputs": [
        {
          "output_type": "execute_result",
          "data": {
            "text/plain": [
              "5.2000000000000004e-30"
            ]
          },
          "metadata": {
            "tags": []
          },
          "execution_count": 75
        }
      ]
    },
    {
      "metadata": {
        "id": "Lc72ZfcNCeJY",
        "colab_type": "code",
        "colab": {}
      },
      "cell_type": "code",
      "source": [
        "y0=0\n",
        "sigmav=[sv(1E-11),sv(1E-10)]\n",
        "yl11 = odeint( eqd, y0, x,args=(1,sigmav[0]) )\n",
        "yl12 = odeint( eqd, y0, x,args=(1,sigmav[1]) )"
      ],
      "execution_count": 0,
      "outputs": []
    },
    {
      "metadata": {
        "id": "dbLIPHPJDVqA",
        "colab_type": "code",
        "colab": {
          "base_uri": "https://localhost:8080/",
          "height": 309
        },
        "outputId": "c5539b07-ae98-41ed-eb50-f12beb44b0ef"
      },
      "cell_type": "code",
      "source": [
        "plt.loglog(x,yl12,'--', label = '$<σ v> = 8.52 x10^{-30} GeV^{-2}$' )\n",
        "plt.loglog(x,yl11,'--', label = '$<σ v> = 8.52 x10^{-33}GeV^{-2}$')\n",
        "plt.loglog(x,Yeq(x), label = '$Y_{EQ}$')\n",
        "plt.ylim(ymax=1E-6,ymin=1e-30)\n",
        "plt.xlim(xmax=1e3,xmin=xi)\n",
        "plt.xlabel('$x = M/T$', size= 15)\n",
        "plt.ylabel('$Y$', size= 15)\n",
        "plt.title('$M = 100$ GeV', size= 15)\n",
        "plt.legend(loc=0)\n",
        "plt.grid(True)"
      ],
      "execution_count": 80,
      "outputs": [
        {
          "output_type": "display_data",
          "data": {
            "image/png": "[encoded data removed]",
            "text/plain": [
              "<matplotlib.figure.Figure at 0x7ff02f0ab2b0>"
            ]
          },
          "metadata": {
            "tags": []
          }
        }
      ]
    },
    {
      "metadata": {
        "id": "l0czgiAsk7cW",
        "colab_type": "code",
        "colab": {}
      },
      "cell_type": "code",
      "source": [
        "def eqd1(y,x):\n",
        "    yl11 = y[0]\n",
        "    yl12 = y[1]\n",
        "    \n",
        "    Ms = 1                                  #GeV Singlet Mass\n",
        "    Mp = 1.22e19                            #GeV Planck Mass\n",
        "    g = 100                                 # Degrees of freedom\n",
        "    gs = 106.75                             # Entropy degrees of freedom\n",
        "    σv = 8.5246674128e-30\n",
        "    σv1 = 8.5246674128e-33\n",
        "    H = 1.67*g**(1/2)*Ms**2/Mp\n",
        "    \n",
        "    dyl11 = (((Ms**2/(2*np.pi*x))**(3/2)*np.exp(-x))*σv/(x**(-2)*H*x))*((0.145*(g/gs)*(x)**(3/2)*np.exp(-x))**2)\n",
        "    dyl12 = (((Ms**2/(2*np.pi*x))**(3/2)*np.exp(-x))*σv1/(x**(-2)*H*x))*((0.145*(g/gs)*(x)**(3/2)*np.exp(-x))**2)\n",
        "    \n",
        "    return [dyl11,dyl12]"
      ],
      "execution_count": 0,
      "outputs": []
    },
    {
      "metadata": {
        "id": "c_C_w5f5k7ci",
        "colab_type": "code",
        "colab": {
          "base_uri": "https://localhost:8080/",
          "height": 34
        },
        "outputId": "59a3c528-e58c-4469-ab1f-4c78fe29e129"
      },
      "cell_type": "code",
      "source": [
        "#Test\n",
        "eqd1([0.005, 0.005],0.1)"
      ],
      "execution_count": 82,
      "outputs": [
        {
          "output_type": "execute_result",
          "data": {
            "text/plain": [
              "[1.7090819740432404e-17, 1.7090819740432407e-20]"
            ]
          },
          "metadata": {
            "tags": []
          },
          "execution_count": 82
        }
      ]
    },
    {
      "metadata": {
        "id": "6XBVB4Snk7cr",
        "colab_type": "code",
        "colab": {}
      },
      "cell_type": "code",
      "source": [
        "y0 = [0, 0]\n",
        "\n",
        "\n",
        "y = odeint(eqd1, y0, x)\n",
        "\n",
        "yl11 = y[:,0]\n",
        "yl12 = y[:,1]"
      ],
      "execution_count": 0,
      "outputs": []
    },
    {
      "metadata": {
        "id": "1y7kJljgk7cz",
        "colab_type": "code",
        "colab": {
          "base_uri": "https://localhost:8080/",
          "height": 309
        },
        "outputId": "1eb04539-abf4-4d89-9bb8-328f647b80f0"
      },
      "cell_type": "code",
      "source": [
        "plt.loglog(x,yl12,'--', label = '$<σ v> = 8.52 x10^{-30} GeV^{-2}$' )\n",
        "plt.loglog(x,yl11,'--', label = '$<σ v> = 8.52 x10^{-33}GeV^{-2}$')\n",
        "plt.loglog(x,Yeq(x), label = '$Y_{EQ}$')\n",
        "plt.ylim(ymax=0.1,ymin=1e-30)\n",
        "plt.xlim(xmax=1e3,xmin=1E-4)\n",
        "plt.xlabel('$x = M/T$', size= 15)\n",
        "plt.ylabel('$Y$', size= 15)\n",
        "plt.title('$M = 100$ GeV', size= 15)\n",
        "plt.legend(loc=0)\n",
        "plt.grid(True)"
      ],
      "execution_count": 85,
      "outputs": [
        {
          "output_type": "display_data",
          "data": {
            "image/png": "[encoded data removed]",
            "text/plain": [
              "<matplotlib.figure.Figure at 0x7ff02c314438>"
            ]
          },
          "metadata": {
            "tags": []
          }
        }
      ]
    },
    {
      "metadata": {
        "id": "wKXAIKUqk7dV",
        "colab_type": "code",
        "colab": {
          "base_uri": "https://localhost:8080/",
          "height": 34
        },
        "outputId": "6a5e95d5-eaf8-4a90-f57b-794d2721e2cc"
      },
      "cell_type": "code",
      "source": [
        "cmGv =(1 /(5.06e13)) #cm to GeV^-1\n",
        "sGv = 6.58e-25 # s to GeV^-1\n",
        "Gevm2 =  cmGv**3/sGv\n",
        "Gevm2"
      ],
      "execution_count": 27,
      "outputs": [
        {
          "output_type": "execute_result",
          "data": {
            "text/plain": [
              "1.1730662928837261e-17"
            ]
          },
          "metadata": {
            "tags": []
          },
          "execution_count": 27
        }
      ]
    },
    {
      "metadata": {
        "id": "yZobTx48k7dy",
        "colab_type": "code",
        "colab": {
          "base_uri": "https://localhost:8080/",
          "height": 34
        },
        "outputId": "4c4bcdd7-88ea-4d45-d9a5-55b28b9e0b14"
      },
      "cell_type": "code",
      "source": [
        "1e-47*(1/Gevm2)"
      ],
      "execution_count": 28,
      "outputs": [
        {
          "output_type": "execute_result",
          "data": {
            "text/plain": [
              "8.5246674128e-31"
            ]
          },
          "metadata": {
            "tags": []
          },
          "execution_count": 28
        }
      ]
    },
    {
      "metadata": {
        "id": "YLqpbGmNvxOq",
        "colab_type": "text"
      },
      "cell_type": "markdown",
      "source": [
        "# Singlet scalar as FIMP Dark Matter\n",
        "https://arxiv.org/abs/1105.1654"
      ]
    },
    {
      "metadata": {
        "id": "AHFmye-dv0U8",
        "colab_type": "text"
      },
      "cell_type": "markdown",
      "source": [
        "Now we reproduce figure 2 from the article above.\n",
        "Following FIMP initial condition, we consider :\n",
        "\n",
        "$$ \\frac{dY}{dx} = \\left(\\frac{\\pi g_{*}(T)}{45}\\right)^{1/2} M_{p} \\langle \\sigma v\\rangle Y_{EQ}(x)^{2}\\,, $$"
      ]
    },
    {
      "metadata": {
        "id": "NDLl-b6ovyUj",
        "colab_type": "code",
        "colab": {}
      },
      "cell_type": "code",
      "source": [
        "def eqd2(y,x):\n",
        "    yl3 = y[0]\n",
        "    yl33 = y[1]\n",
        "    \n",
        "    \n",
        "    Ms = 1                                  #GeV Singlet Mass\n",
        "    Mp = 1.22e19                            #GeV Planck Mass\n",
        "    g = 100                                # Degrees of freedom\n",
        "    gs = 107                             # Entropy degrees of freedom\n",
        "    σv = 5.2e-32\n",
        "    #σv1 = 8.5246674128e-33\n",
        "    H = 1.67*g**(1/2)*Ms**2/Mp\n",
        "    \n",
        "    dyl3 = np.sqrt(np.pi*g/45)*Mp*σv*((0.145*(g/gs)*(x)**(3/2)*np.exp(-x))**2)\n",
        "    dyl33 = (((Ms**2/(2*np.pi*x))**(3/2)*np.exp(-x))*σv/(x**(-2)*H*x))*((0.145*(g/gs)*(x)**(3/2)*np.exp(-x))**2)\n",
        "    \n",
        "    \n",
        "    return [dyl3, dyl33]"
      ],
      "execution_count": 0,
      "outputs": []
    },
    {
      "metadata": {
        "id": "zppv7AqTv-21",
        "colab_type": "code",
        "colab": {}
      },
      "cell_type": "code",
      "source": [
        "y0 = [0.0, 0.0]\n",
        "\n",
        "\n",
        "y = odeint(eqd2, y0, x)\n",
        "\n",
        "yl3 = y[:,0]\n",
        "yl33 = y[:,1]"
      ],
      "execution_count": 0,
      "outputs": []
    },
    {
      "metadata": {
        "id": "ZF0SzTIRwB8o",
        "colab_type": "code",
        "colab": {
          "base_uri": "https://localhost:8080/",
          "height": 309
        },
        "outputId": "e7629fb3-8951-4ede-e041-6ed165d780c5"
      },
      "cell_type": "code",
      "source": [
        "plt.loglog(x,yl3,'--', label = '$<σ v> = 5.2 x10^{-32} GeV^{-2}$' )\n",
        "plt.loglog(x,yl33, label = '$<σ v> = 5.2 x10^{-32} GeV^{-2}$' )\n",
        "#plt.loglog(x,yl11,'--', label = '$<σ v> = 8.52 x10^{-33}GeV^{-2}$')\n",
        "#plt.loglog(x,Yeq(x), label = '$Y_{EQ}$')\n",
        "plt.ylim(ymax=1e-6,ymin=1e-26)\n",
        "plt.xlim(xmax=100,xmin=1e-4)\n",
        "plt.xlabel('$M/T$', size= 15)\n",
        "plt.ylabel('$Y$', size= 15)\n",
        "plt.title('$M = 100$ GeV', size= 15)\n",
        "plt.legend(loc=0)\n",
        "plt.grid(True)"
      ],
      "execution_count": 95,
      "outputs": [
        {
          "output_type": "display_data",
          "data": {
            "image/png": "[encoded data removed]",
            "text/plain": [
              "<matplotlib.figure.Figure at 0x7ff02f09fc18>"
            ]
          },
          "metadata": {
            "tags": []
          }
        }
      ]
    },
    {
      "metadata": {
        "id": "GI6XlP08wLyq",
        "colab_type": "code",
        "colab": {}
      },
      "cell_type": "code",
      "source": [
        ""
      ],
      "execution_count": 0,
      "outputs": []
    }
  ]
}