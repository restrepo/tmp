{
  "nbformat": 4,
  "nbformat_minor": 0,
  "metadata": {
    "colab": {
      "name": "OpenAccess.ipynb",
      "version": "0.3.2",
      "provenance": [],
      "collapsed_sections": [],
      "include_colab_link": true
    },
    "kernelspec": {
      "name": "python3",
      "display_name": "Python 3"
    }
  },
  "cells": [
    {
      "cell_type": "markdown",
      "metadata": {
        "id": "view-in-github",
        "colab_type": "text"
      },
      "source": [
        "[View in Colaboratory](https://colab.research.google.com/github/restrepo/tmp/blob/master/cienciometria/OpenAccess.ipynb)"
      ]
    },
    {
      "metadata": {
        "id": "uu-sf4Ukvbb-",
        "colab_type": "text"
      },
      "cell_type": "markdown",
      "source": [
        "# Open Acces Analysis: UdeA\n",
        "Based in http://oadoi.org full DataBase\n",
        "\n",
        "[ES]\n",
        "Son los resultados de Open Access. de la UdeA que están basados en combinar las bases de datos Web of Science, SCOPUS y SCIELO lcon la base de datos de oadoi.org en JSON:\n",
        "\n",
        "De los 15550 artículos de la UdeA  se analizaron los 7990 que tienen DOI:\n",
        "\n",
        "* TOTAL: 7990\n",
        "* Open Access (OA) Total: 3491\n",
        "   1. OA Yellow: 1505\n",
        "   1. OA Green Total: 1986\n",
        "        *  OA Green en revistas OA:  1726\n",
        "        * OA Green en revistas no OA: 260\n",
        "\n",
        "De los 1986  OA Green y usando la plataforma DOAJ, se logró identificar al APC de 627 artículos, convertirlos a dolares y obtener el monto total:\n",
        "\n",
        "APC para 627 artículos:   920 276 USD\n",
        "\n",
        "Notebook (en mejoras. Para correrlo se debe instalar la extensión Colaboratory: http://bit.ly/Colaboratory,  de Google Drive):\n",
        "\n",
        "https://colab.research.google.com/github/restrepo/medicion/blob/master/cienciometria/OpenAccess.ipynb\n",
        "\n",
        "Bases de datos de resuiltados DOI UdeA con información OpenAcces y APC (EXCEL):\n",
        "\n",
        "http://bit.ly/oadois-udea\n"
      ]
    },
    {
      "metadata": {
        "id": "8-bNxmzTvjp4",
        "colab_type": "text"
      },
      "cell_type": "markdown",
      "source": [
        "## Load UDEA_DOIS"
      ]
    },
    {
      "metadata": {
        "id": "kHZ5Lw4Bvsvm",
        "colab_type": "code",
        "colab": {}
      },
      "cell_type": "code",
      "source": [
        "!pip install wosplus openpyxl currencyconverter > /dev/null"
      ],
      "execution_count": 0,
      "outputs": []
    },
    {
      "metadata": {
        "id": "myuigGH2v62c",
        "colab_type": "code",
        "outputId": "44796751-cb68-498d-d6c9-5d6fa86255bf",
        "colab": {
          "base_uri": "https://localhost:8080/",
          "height": 35
        }
      },
      "cell_type": "code",
      "source": [
        "%%writefile drive.cfg\n",
        "[FILES]\n",
        "DOIS.xlsx               = 1bikNT7Gmp4G7dfeMuGsF-az7D8lskK0O\n",
        "UDEA_WOS_SCI_SCP.xlsx   = 1o9otmklgh-0w18Avv2ZTKOXr3vZbjwvj\n",
        "oaudea.xlsx             = 1CcwobiEFACIbffNzNdLxpdxQukr8cZ5x"
      ],
      "execution_count": 2,
      "outputs": [
        {
          "output_type": "stream",
          "text": [
            "Writing drive.cfg\n"
          ],
          "name": "stdout"
        }
      ]
    },
    {
      "metadata": {
        "id": "MPUuyG2twGki",
        "colab_type": "code",
        "colab": {}
      },
      "cell_type": "code",
      "source": [
        "import wosplus as wp\n",
        "import numpy as np\n",
        "import pandas as pd\n",
        "import os"
      ],
      "execution_count": 0,
      "outputs": []
    },
    {
      "metadata": {
        "id": "ZplUcp4P2qPM",
        "colab_type": "code",
        "colab": {}
      },
      "cell_type": "code",
      "source": [
        "files=wp.wosplus('drive.cfg')"
      ],
      "execution_count": 0,
      "outputs": []
    },
    {
      "metadata": {
        "id": "So_zs_8v26NX",
        "colab_type": "code",
        "colab": {}
      },
      "cell_type": "code",
      "source": [
        "dois=files.read_drive_excel('DOIS.xlsx')"
      ],
      "execution_count": 0,
      "outputs": []
    },
    {
      "metadata": {
        "id": "XURNN28kjHdH",
        "colab_type": "text"
      },
      "cell_type": "markdown",
      "source": [
        "###  Total UDEA DOIs"
      ]
    },
    {
      "metadata": {
        "id": "uCSsiMBEjF8I",
        "colab_type": "code",
        "outputId": "d10dcfe9-a827-4dc6-e571-3d1a17c596cb",
        "colab": {
          "base_uri": "https://localhost:8080/",
          "height": 35
        }
      },
      "cell_type": "code",
      "source": [
        "dois.shape"
      ],
      "execution_count": 6,
      "outputs": [
        {
          "output_type": "execute_result",
          "data": {
            "text/plain": [
              "(7993, 1)"
            ]
          },
          "metadata": {
            "tags": []
          },
          "execution_count": 6
        }
      ]
    },
    {
      "metadata": {
        "id": "GUf2D_x-ev44",
        "colab_type": "text"
      },
      "cell_type": "markdown",
      "source": [
        "## Normalize DOIS"
      ]
    },
    {
      "metadata": {
        "id": "YHm8pevF6OD5",
        "colab_type": "code",
        "colab": {}
      },
      "cell_type": "code",
      "source": [
        "dois['DI']=dois['DI'].str.lower()"
      ],
      "execution_count": 0,
      "outputs": []
    },
    {
      "metadata": {
        "id": "28mCqwc0e0MH",
        "colab_type": "text"
      },
      "cell_type": "markdown",
      "source": [
        "## Load oadoi.org data\n",
        "Set the Working Directory in the place where the files with the oadoi.org data is located"
      ]
    },
    {
      "metadata": {
        "id": "AG5ZII1A2-al",
        "colab_type": "code",
        "outputId": "7523b665-b797-476c-c8ad-1baa9081383a",
        "colab": {
          "base_uri": "https://localhost:8080/",
          "height": 129
        }
      },
      "cell_type": "code",
      "source": [
        "# Load the Drive helper and mount\n",
        "from google.colab import drive\n",
        "\n",
        "# This will prompt for authorization.\n",
        "drive.mount('/content/drive')"
      ],
      "execution_count": 8,
      "outputs": [
        {
          "output_type": "stream",
          "text": [
            "Go to this URL in a browser: https://accounts.google.com/o/oauth2/auth?client_id=947318989803-6bn6qk8qdgf4n4g3pfee6491hc0brc4i.apps.googleusercontent.com&redirect_uri=urn%3Aietf%3Awg%3Aoauth%3A2.0%3Aoob&scope=email%20https%3A%2F%2Fwww.googleapis.com%2Fauth%2Fdocs.test%20https%3A%2F%2Fwww.googleapis.com%2Fauth%2Fdrive%20https%3A%2F%2Fwww.googleapis.com%2Fauth%2Fdrive.photos.readonly%20https%3A%2F%2Fwww.googleapis.com%2Fauth%2Fpeopleapi.readonly&response_type=code\n",
            "\n",
            "Enter your authorization code:\n",
            "··········\n",
            "Mounted at /content/drive\n"
          ],
          "name": "stdout"
        }
      ]
    },
    {
      "metadata": {
        "id": "5zD1C7vC5Uf8",
        "colab_type": "code",
        "colab": {}
      },
      "cell_type": "code",
      "source": [
        "WORK_DIR=\"drive/My Drive/Colab Notebooks/Data\"\n",
        "os.chdir(WORK_DIR)"
      ],
      "execution_count": 0,
      "outputs": []
    },
    {
      "metadata": {
        "id": "iel6BWO3Bpev",
        "colab_type": "code",
        "colab": {}
      },
      "cell_type": "code",
      "source": [
        "oa=pd.read_csv('oadoi.csv')"
      ],
      "execution_count": 0,
      "outputs": []
    },
    {
      "metadata": {
        "id": "I9in8WruCvzn",
        "colab_type": "code",
        "colab": {}
      },
      "cell_type": "code",
      "source": [
        "oa['DOI']=oa['DOI'].str.lower()"
      ],
      "execution_count": 0,
      "outputs": []
    },
    {
      "metadata": {
        "id": "FUBNWHPUDi99",
        "colab_type": "code",
        "colab": {}
      },
      "cell_type": "code",
      "source": [
        "yellow=pd.read_csv('oayellowdois.csv')\n",
        "yellow['DOI']=yellow['DOI'].str.lower()"
      ],
      "execution_count": 0,
      "outputs": []
    },
    {
      "metadata": {
        "id": "zsC7rBxB88E4",
        "colab_type": "code",
        "colab": {}
      },
      "cell_type": "code",
      "source": [
        "green=pd.read_csv('oagreendoissn.csv')\n",
        "green=green.fillna('')\n",
        "green['DOI']=green['DOI'].str.lower()"
      ],
      "execution_count": 0,
      "outputs": []
    },
    {
      "metadata": {
        "id": "12BzMRbLAOPA",
        "colab_type": "code",
        "colab": {}
      },
      "cell_type": "code",
      "source": [
        "greenarticle=pd.read_csv('oagreenarticledois.csv')\n",
        "greenarticle['DOI']=greenarticle['DOI'].str.lower()"
      ],
      "execution_count": 0,
      "outputs": []
    },
    {
      "metadata": {
        "id": "w9mHNzmKe5jH",
        "colab_type": "text"
      },
      "cell_type": "markdown",
      "source": [
        "## Merge"
      ]
    },
    {
      "metadata": {
        "id": "FGJ0t0RNfQmV",
        "colab_type": "text"
      },
      "cell_type": "markdown",
      "source": [
        "### Full Open Acces DOIS"
      ]
    },
    {
      "metadata": {
        "id": "h31zIic3CN4-",
        "colab_type": "code",
        "outputId": "d0120343-30e6-4fab-beef-689e608ad849",
        "colab": {
          "base_uri": "https://localhost:8080/",
          "height": 35
        }
      },
      "cell_type": "code",
      "source": [
        "oafdois=dois.merge(oa,left_on='DI',right_on='DOI',how='left')\n",
        "oafdois=oafdois.fillna('')\n",
        "oafdois[oafdois.DOI!=''].shape==(3491, 2)"
      ],
      "execution_count": 89,
      "outputs": [
        {
          "output_type": "execute_result",
          "data": {
            "text/plain": [
              "True"
            ]
          },
          "metadata": {
            "tags": []
          },
          "execution_count": 89
        }
      ]
    },
    {
      "metadata": {
        "id": "vOFg9jtODMOK",
        "colab_type": "code",
        "colab": {}
      },
      "cell_type": "code",
      "source": [
        "oafdois=oafdois.rename({'DOI':'Open_Access'}, axis = 'columns')"
      ],
      "execution_count": 0,
      "outputs": []
    },
    {
      "metadata": {
        "id": "ZhI8JX1BfWrD",
        "colab_type": "text"
      },
      "cell_type": "markdown",
      "source": [
        "### Yellow Open Access  DOIS"
      ]
    },
    {
      "metadata": {
        "id": "BnXC-5Ki5sdi",
        "colab_type": "code",
        "colab": {}
      },
      "cell_type": "code",
      "source": [
        "oayellowdois=oafdois.merge(yellow,left_on='DI',right_on='DOI',how='left')\n",
        "oayellowdois=oayellowdois.fillna('')\n",
        "oayellowdois=oayellowdois.rename({'DOI':'OA_Yellow'}, axis = 'columns')"
      ],
      "execution_count": 0,
      "outputs": []
    },
    {
      "metadata": {
        "id": "35hwc_31D2kC",
        "colab_type": "code",
        "outputId": "d442b2e1-e1d2-4caa-ebc9-4f1b044f404b",
        "colab": {
          "base_uri": "https://localhost:8080/",
          "height": 35
        }
      },
      "cell_type": "code",
      "source": [
        "oayellowdois[oayellowdois['OA_Yellow']!=''].shape==(1505, 3)"
      ],
      "execution_count": 92,
      "outputs": [
        {
          "output_type": "execute_result",
          "data": {
            "text/plain": [
              "True"
            ]
          },
          "metadata": {
            "tags": []
          },
          "execution_count": 92
        }
      ]
    },
    {
      "metadata": {
        "id": "sAMisBVAfgdg",
        "colab_type": "text"
      },
      "cell_type": "markdown",
      "source": [
        "### Green Open Access DOIs in Open Access journals"
      ]
    },
    {
      "metadata": {
        "id": "2DQDehyS-BxP",
        "colab_type": "code",
        "colab": {}
      },
      "cell_type": "code",
      "source": [
        "oaygdois=oayellowdois.merge(green,left_on='DI',right_on='DOI',how='left')\n",
        "oaygdois=oaygdois.fillna('')\n",
        "oaygdois=oaygdois.rename({'DOI':'OA_Green'}, axis = 'columns')"
      ],
      "execution_count": 0,
      "outputs": []
    },
    {
      "metadata": {
        "id": "nHoK3iNI-UND",
        "colab_type": "code",
        "outputId": "e79bc926-1bcf-488f-c918-8d2f9304486b",
        "colab": {
          "base_uri": "https://localhost:8080/",
          "height": 35
        }
      },
      "cell_type": "code",
      "source": [
        "oaygdois[oaygdois['OA_Green']!=''].shape==(1726, 5)"
      ],
      "execution_count": 99,
      "outputs": [
        {
          "output_type": "execute_result",
          "data": {
            "text/plain": [
              "True"
            ]
          },
          "metadata": {
            "tags": []
          },
          "execution_count": 99
        }
      ]
    },
    {
      "metadata": {
        "id": "CVRNATDOfofz",
        "colab_type": "text"
      },
      "cell_type": "markdown",
      "source": [
        "check"
      ]
    },
    {
      "metadata": {
        "id": "JB6UH1gUAVwy",
        "colab_type": "code",
        "outputId": "59c050f3-cb6b-4944-e998-228870e21afc",
        "colab": {
          "base_uri": "https://localhost:8080/",
          "height": 35
        }
      },
      "cell_type": "code",
      "source": [
        "oaygdois[np.logical_or(oaygdois.OA_Yellow!='' ,oaygdois.OA_Green!='')].shape==(1505+1726,5)"
      ],
      "execution_count": 109,
      "outputs": [
        {
          "output_type": "execute_result",
          "data": {
            "text/plain": [
              "True"
            ]
          },
          "metadata": {
            "tags": []
          },
          "execution_count": 109
        }
      ]
    },
    {
      "metadata": {
        "id": "jAciPw5LfujW",
        "colab_type": "text"
      },
      "cell_type": "markdown",
      "source": [
        "### Green Open Access  DOIS in closed journals \n",
        "\n",
        " "
      ]
    },
    {
      "metadata": {
        "id": "igoJcM80E8mO",
        "colab_type": "code",
        "colab": {}
      },
      "cell_type": "code",
      "source": [
        "oadois=oaygdois.merge(greenarticle,left_on='DI',right_on='DOI',how='left')\n",
        "oadois=oadois.fillna('')\n",
        "oadois=oadois.rename({'DOI':'OA_Green_Article'}, axis = 'columns')"
      ],
      "execution_count": 0,
      "outputs": []
    },
    {
      "metadata": {
        "id": "LR9Fu3sbFWMN",
        "colab_type": "code",
        "outputId": "0f8fbce4-239b-4070-8c5a-837e8f8cdb07",
        "colab": {
          "base_uri": "https://localhost:8080/",
          "height": 35
        }
      },
      "cell_type": "code",
      "source": [
        "oadois[oadois['OA_Green_Article']!=''].shape==(260,6)"
      ],
      "execution_count": 106,
      "outputs": [
        {
          "output_type": "execute_result",
          "data": {
            "text/plain": [
              "True"
            ]
          },
          "metadata": {
            "tags": []
          },
          "execution_count": 106
        }
      ]
    },
    {
      "metadata": {
        "id": "3Qohv1-9f6fq",
        "colab_type": "text"
      },
      "cell_type": "markdown",
      "source": [
        "### Check full Open Access DOIS:"
      ]
    },
    {
      "metadata": {
        "id": "io6qVlcWGADj",
        "colab_type": "code",
        "outputId": "ed6adc96-263f-46c8-a9c1-d750fdfba6a4",
        "colab": {
          "base_uri": "https://localhost:8080/",
          "height": 35
        }
      },
      "cell_type": "code",
      "source": [
        "oadois[np.logical_or( np.logical_or(oadois.OA_Yellow!='' ,oadois.OA_Green!=''),oadois.OA_Green_Article!='')].shape==(1505+1726+260,6)"
      ],
      "execution_count": 110,
      "outputs": [
        {
          "output_type": "execute_result",
          "data": {
            "text/plain": [
              "True"
            ]
          },
          "metadata": {
            "tags": []
          },
          "execution_count": 110
        }
      ]
    },
    {
      "metadata": {
        "id": "fC3P9u12f891",
        "colab_type": "text"
      },
      "cell_type": "markdown",
      "source": [
        "Save preliminary results"
      ]
    },
    {
      "metadata": {
        "id": "jDmSjQ-FFsoE",
        "colab_type": "code",
        "colab": {}
      },
      "cell_type": "code",
      "source": [
        "REBUILD_DB=False\n",
        "if REBUILD_DB:\n",
        "    oadois.to_excel('oaudea.xlsx',index=False)"
      ],
      "execution_count": 0,
      "outputs": []
    },
    {
      "metadata": {
        "id": "NdgG4_9FgPAv",
        "colab_type": "text"
      },
      "cell_type": "markdown",
      "source": [
        "checks:"
      ]
    },
    {
      "metadata": {
        "id": "_wzK_NSHXw3y",
        "colab_type": "code",
        "outputId": "a268021a-f224-4135-c96c-c31788c35d44",
        "colab": {
          "base_uri": "https://localhost:8080/",
          "height": 79
        }
      },
      "cell_type": "code",
      "source": [
        "oadois[:1]"
      ],
      "execution_count": 113,
      "outputs": [
        {
          "output_type": "execute_result",
          "data": {
            "text/html": [
              "<div>\n",
              "<style scoped>\n",
              "    .dataframe tbody tr th:only-of-type {\n",
              "        vertical-align: middle;\n",
              "    }\n",
              "\n",
              "    .dataframe tbody tr th {\n",
              "        vertical-align: top;\n",
              "    }\n",
              "\n",
              "    .dataframe thead th {\n",
              "        text-align: right;\n",
              "    }\n",
              "</style>\n",
              "<table border=\"1\" class=\"dataframe\">\n",
              "  <thead>\n",
              "    <tr style=\"text-align: right;\">\n",
              "      <th></th>\n",
              "      <th>DI</th>\n",
              "      <th>Open_Access</th>\n",
              "      <th>OA_Yellow</th>\n",
              "      <th>OA_Green</th>\n",
              "      <th>ISSNs</th>\n",
              "      <th>OA_Green_Article</th>\n",
              "    </tr>\n",
              "  </thead>\n",
              "  <tbody>\n",
              "    <tr>\n",
              "      <th>0</th>\n",
              "      <td>10.7705/biomedica.v37i3.4058</td>\n",
              "      <td>10.7705/biomedica.v37i3.4058</td>\n",
              "      <td>10.7705/biomedica.v37i3.4058</td>\n",
              "      <td></td>\n",
              "      <td></td>\n",
              "      <td></td>\n",
              "    </tr>\n",
              "  </tbody>\n",
              "</table>\n",
              "</div>"
            ],
            "text/plain": [
              "                             DI                   Open_Access  \\\n",
              "0  10.7705/biomedica.v37i3.4058  10.7705/biomedica.v37i3.4058   \n",
              "\n",
              "                      OA_Yellow OA_Green ISSNs OA_Green_Article  \n",
              "0  10.7705/biomedica.v37i3.4058                                  "
            ]
          },
          "metadata": {
            "tags": []
          },
          "execution_count": 113
        }
      ]
    },
    {
      "metadata": {
        "id": "OZHIrCcoX8Hp",
        "colab_type": "code",
        "outputId": "f75a7aa4-eafd-4678-fd0c-7c2b58ba2044",
        "colab": {
          "base_uri": "https://localhost:8080/",
          "height": 35
        }
      },
      "cell_type": "code",
      "source": [
        "oadois.shape==(7993, 6)"
      ],
      "execution_count": 115,
      "outputs": [
        {
          "output_type": "execute_result",
          "data": {
            "text/plain": [
              "True"
            ]
          },
          "metadata": {
            "tags": []
          },
          "execution_count": 115
        }
      ]
    },
    {
      "metadata": {
        "id": "9OkXeLPRWHxR",
        "colab_type": "text"
      },
      "cell_type": "markdown",
      "source": [
        "## Check with Scopus Open Access information"
      ]
    },
    {
      "metadata": {
        "id": "zZvi0b24WKeY",
        "colab_type": "code",
        "colab": {}
      },
      "cell_type": "code",
      "source": [
        "udea=files.read_drive_excel('UDEA_WOS_SCI_SCP.xlsx')\n",
        "udea=wp.fill_NaN(udea)"
      ],
      "execution_count": 0,
      "outputs": []
    },
    {
      "metadata": {
        "id": "veMZCDkFehHN",
        "colab_type": "code",
        "colab": {}
      },
      "cell_type": "code",
      "source": [
        "udea['DI']=udea['DI'].str.lower()"
      ],
      "execution_count": 0,
      "outputs": []
    },
    {
      "metadata": {
        "id": "urYzhHe1WlTa",
        "colab_type": "code",
        "colab": {}
      },
      "cell_type": "code",
      "source": [
        "oascp=udea[udea['SCP_Access Type']=='Open Access'].reset_index(drop=True)"
      ],
      "execution_count": 0,
      "outputs": []
    },
    {
      "metadata": {
        "id": "CEfV1IHegV0x",
        "colab_type": "text"
      },
      "cell_type": "markdown",
      "source": [
        "#### Misssing Open Access articles wihtout DOI"
      ]
    },
    {
      "metadata": {
        "id": "_dSyA1hwXKB4",
        "colab_type": "code",
        "outputId": "4076f801-38ec-40d3-9fac-44bb954e0f56",
        "colab": {
          "base_uri": "https://localhost:8080/",
          "height": 405
        }
      },
      "cell_type": "code",
      "source": [
        "oascp[oascp['DI']==''].SO"
      ],
      "execution_count": 119,
      "outputs": [
        {
          "output_type": "execute_result",
          "data": {
            "text/plain": [
              "395    REVISTA BRASILEIRA DE FARMACOGNOSIA-BRAZILIAN ...\n",
              "396             BRAZILIAN JOURNAL OF INFECTIOUS DISEASES\n",
              "397                     Revista de la educación superior\n",
              "398                                     Gaceta Sanitaria\n",
              "400                                    ATENCION PRIMARIA\n",
              "401                 Revista Colombiana de Anestesiología\n",
              "402                 Revista Colombiana de Anestesiología\n",
              "403                 Revista Colombiana de Anestesiología\n",
              "405                 Revista Colombiana de Anestesiología\n",
              "406                 Revista Colombiana de Anestesiología\n",
              "407                      Revista argentina de radiología\n",
              "408           Corpoica Ciencia y Tecnología Agropecuaria\n",
              "409                    Revista Colombiana de Cardiología\n",
              "410           Corpoica Ciencia y Tecnología Agropecuaria\n",
              "411           Corpoica Ciencia y Tecnología Agropecuaria\n",
              "412                     Revista de la educación superior\n",
              "413                                             Infectio\n",
              "414                    Revista Colombiana de Cardiología\n",
              "415                                             Infectio\n",
              "416                                 Agronomía Colombiana\n",
              "Name: SO, dtype: object"
            ]
          },
          "metadata": {
            "tags": []
          },
          "execution_count": 119
        }
      ]
    },
    {
      "metadata": {
        "id": "NN0ai-5pZvMG",
        "colab_type": "text"
      },
      "cell_type": "markdown",
      "source": [
        "## Quality check:  \n",
        "Scopus has Open Access information; Expected 0 news:"
      ]
    },
    {
      "metadata": {
        "id": "QUOB5x5skqTU",
        "colab_type": "code",
        "colab": {}
      },
      "cell_type": "code",
      "source": [
        "oascp['OA_SCP']=oascp['DI']"
      ],
      "execution_count": 0,
      "outputs": []
    },
    {
      "metadata": {
        "id": "UHLcXTHmXdRJ",
        "colab_type": "code",
        "colab": {}
      },
      "cell_type": "code",
      "source": [
        "kk=oascp[oascp['OA_SCP']!=''][['OA_SCP']].merge(oadois,left_on='OA_SCP',right_on='Open_Access',how='left')"
      ],
      "execution_count": 0,
      "outputs": []
    },
    {
      "metadata": {
        "id": "0lxEBJ90ZovB",
        "colab_type": "code",
        "outputId": "0f011973-3f98-49c9-d13a-9a54589254a8",
        "colab": {
          "base_uri": "https://localhost:8080/",
          "height": 35
        }
      },
      "cell_type": "code",
      "source": [
        "kk[kk['Open_Access']==''].shape"
      ],
      "execution_count": 125,
      "outputs": [
        {
          "output_type": "execute_result",
          "data": {
            "text/plain": [
              "(0, 7)"
            ]
          },
          "metadata": {
            "tags": []
          },
          "execution_count": 125
        }
      ]
    },
    {
      "metadata": {
        "id": "_3l6qgmtW-vr",
        "colab_type": "text"
      },
      "cell_type": "markdown",
      "source": [
        "## APC from DOAJ. ISSNs are required"
      ]
    },
    {
      "metadata": {
        "id": "fXBD6Mzsjfg3",
        "colab_type": "text"
      },
      "cell_type": "markdown",
      "source": [
        "###  Get ISSNs"
      ]
    },
    {
      "metadata": {
        "id": "vfqFb1Y2dbbK",
        "colab_type": "code",
        "outputId": "8e8982f1-9425-4dd1-c885-60404a360d24",
        "colab": {
          "base_uri": "https://localhost:8080/",
          "height": 79
        }
      },
      "cell_type": "code",
      "source": [
        "udea[ udea['DI'].str.lower().str.contains('10.1109/cerma.2010.131') ][['DI','SN','EI','SCI_SN','SCP_ISSN']]"
      ],
      "execution_count": 131,
      "outputs": [
        {
          "output_type": "execute_result",
          "data": {
            "text/html": [
              "<div>\n",
              "<style scoped>\n",
              "    .dataframe tbody tr th:only-of-type {\n",
              "        vertical-align: middle;\n",
              "    }\n",
              "\n",
              "    .dataframe tbody tr th {\n",
              "        vertical-align: top;\n",
              "    }\n",
              "\n",
              "    .dataframe thead th {\n",
              "        text-align: right;\n",
              "    }\n",
              "</style>\n",
              "<table border=\"1\" class=\"dataframe\">\n",
              "  <thead>\n",
              "    <tr style=\"text-align: right;\">\n",
              "      <th></th>\n",
              "      <th>DI</th>\n",
              "      <th>SN</th>\n",
              "      <th>EI</th>\n",
              "      <th>SCI_SN</th>\n",
              "      <th>SCP_ISSN</th>\n",
              "    </tr>\n",
              "  </thead>\n",
              "  <tbody>\n",
              "    <tr>\n",
              "      <th>8252</th>\n",
              "      <td>10.1109/cerma.2010.131</td>\n",
              "      <td></td>\n",
              "      <td></td>\n",
              "      <td></td>\n",
              "      <td></td>\n",
              "    </tr>\n",
              "  </tbody>\n",
              "</table>\n",
              "</div>"
            ],
            "text/plain": [
              "                          DI SN EI SCI_SN SCP_ISSN\n",
              "8252  10.1109/cerma.2010.131                      "
            ]
          },
          "metadata": {
            "tags": []
          },
          "execution_count": 131
        }
      ]
    },
    {
      "metadata": {
        "id": "OUArcIuVaIdG",
        "colab_type": "code",
        "outputId": "64f0f6a4-89ca-4048-e09d-c24978b7290b",
        "colab": {
          "base_uri": "https://localhost:8080/",
          "height": 54
        }
      },
      "cell_type": "code",
      "source": [
        "udea['SN'][:1]"
      ],
      "execution_count": 132,
      "outputs": [
        {
          "output_type": "execute_result",
          "data": {
            "text/plain": [
              "0    0002-9378\\n\n",
              "Name: SN, dtype: object"
            ]
          },
          "metadata": {
            "tags": []
          },
          "execution_count": 132
        }
      ]
    },
    {
      "metadata": {
        "id": "kdTIlSCuaZJ8",
        "colab_type": "code",
        "outputId": "3f233268-6dad-4aa0-d113-4aa603e6b7bc",
        "colab": {
          "base_uri": "https://localhost:8080/",
          "height": 54
        }
      },
      "cell_type": "code",
      "source": [
        "udea[ udea['SCI_SN']!='' ].SCI_SN[:1]"
      ],
      "execution_count": 133,
      "outputs": [
        {
          "output_type": "execute_result",
          "data": {
            "text/plain": [
              "1186    2175-7968\\n\n",
              "Name: SCI_SN, dtype: object"
            ]
          },
          "metadata": {
            "tags": []
          },
          "execution_count": 133
        }
      ]
    },
    {
      "metadata": {
        "id": "0xfgjWnmgvQb",
        "colab_type": "text"
      },
      "cell_type": "markdown",
      "source": [
        "Combine ISSNs"
      ]
    },
    {
      "metadata": {
        "id": "d_Rh1JoVajKL",
        "colab_type": "code",
        "colab": {}
      },
      "cell_type": "code",
      "source": [
        "udea['ISSN']=( udea['SN']+udea['EI']+udea['SCI_SN']+udea['SCP_ISSN'].str.replace('(^[a-zA-Z0-9]{4})([a-zA-Z0-9]{4}$)',r'\\1-\\2\\n')).str.split('\\n').str[0]"
      ],
      "execution_count": 0,
      "outputs": []
    },
    {
      "metadata": {
        "id": "TGfsDWg4c9tQ",
        "colab_type": "code",
        "outputId": "9d2d1514-edc4-4f10-c014-6f4836f928b5",
        "colab": {
          "base_uri": "https://localhost:8080/",
          "height": 79
        }
      },
      "cell_type": "code",
      "source": [
        "oadois[:1]"
      ],
      "execution_count": 135,
      "outputs": [
        {
          "output_type": "execute_result",
          "data": {
            "text/html": [
              "<div>\n",
              "<style scoped>\n",
              "    .dataframe tbody tr th:only-of-type {\n",
              "        vertical-align: middle;\n",
              "    }\n",
              "\n",
              "    .dataframe tbody tr th {\n",
              "        vertical-align: top;\n",
              "    }\n",
              "\n",
              "    .dataframe thead th {\n",
              "        text-align: right;\n",
              "    }\n",
              "</style>\n",
              "<table border=\"1\" class=\"dataframe\">\n",
              "  <thead>\n",
              "    <tr style=\"text-align: right;\">\n",
              "      <th></th>\n",
              "      <th>DI</th>\n",
              "      <th>Open_Access</th>\n",
              "      <th>OA_Yellow</th>\n",
              "      <th>OA_Green</th>\n",
              "      <th>ISSNs</th>\n",
              "      <th>OA_Green_Article</th>\n",
              "    </tr>\n",
              "  </thead>\n",
              "  <tbody>\n",
              "    <tr>\n",
              "      <th>0</th>\n",
              "      <td>10.7705/biomedica.v37i3.4058</td>\n",
              "      <td>10.7705/biomedica.v37i3.4058</td>\n",
              "      <td>10.7705/biomedica.v37i3.4058</td>\n",
              "      <td></td>\n",
              "      <td></td>\n",
              "      <td></td>\n",
              "    </tr>\n",
              "  </tbody>\n",
              "</table>\n",
              "</div>"
            ],
            "text/plain": [
              "                             DI                   Open_Access  \\\n",
              "0  10.7705/biomedica.v37i3.4058  10.7705/biomedica.v37i3.4058   \n",
              "\n",
              "                      OA_Yellow OA_Green ISSNs OA_Green_Article  \n",
              "0  10.7705/biomedica.v37i3.4058                                  "
            ]
          },
          "metadata": {
            "tags": []
          },
          "execution_count": 135
        }
      ]
    },
    {
      "metadata": {
        "id": "IFl526Oqg01o",
        "colab_type": "text"
      },
      "cell_type": "markdown",
      "source": [
        "Add ISSN column to DOIs database"
      ]
    },
    {
      "metadata": {
        "id": "Xvkdr66oWerz",
        "colab_type": "code",
        "colab": {}
      },
      "cell_type": "code",
      "source": [
        "udeadois=oadois.merge( udea[['DI','ISSN']],on='DI',how='left')  "
      ],
      "execution_count": 0,
      "outputs": []
    },
    {
      "metadata": {
        "id": "lrR3KiwzgL5X",
        "colab_type": "code",
        "colab": {}
      },
      "cell_type": "code",
      "source": [
        "udeadois=udeadois.fillna('')"
      ],
      "execution_count": 0,
      "outputs": []
    },
    {
      "metadata": {
        "id": "7mIUI-Pxg-jj",
        "colab_type": "text"
      },
      "cell_type": "markdown",
      "source": [
        "###  Search APC  in DOAJ"
      ]
    },
    {
      "metadata": {
        "id": "N0KIzeBRa8qS",
        "colab_type": "code",
        "colab": {}
      },
      "cell_type": "code",
      "source": [
        "def get_APC(issn):\n",
        "    from bs4 import BeautifulSoup\n",
        "    import requests\n",
        "    import random\n",
        "    import time\n",
        "\n",
        "    url='https://doaj.org/toc/{}'.format(issn)\n",
        "    r=requests.get(url)\n",
        "    soup=BeautifulSoup(r.text)\n",
        "    try:\n",
        "        APC=soup.find_all('div',{\"class\":\"box slim\"})[0].contents[3].contents[2].strip()\n",
        "    except:\n",
        "        APC=''\n",
        "        \n",
        "    time.sleep(random.randint(1,3))    \n",
        "    return APC"
      ],
      "execution_count": 0,
      "outputs": []
    },
    {
      "metadata": {
        "id": "BQa5MzAeg-JH",
        "colab_type": "text"
      },
      "cell_type": "markdown",
      "source": [
        "check"
      ]
    },
    {
      "metadata": {
        "id": "qEBIqS2ohxjp",
        "colab_type": "code",
        "outputId": "42a6d9c1-6656-4fd0-f4d4-9100bfa05aed",
        "colab": {
          "base_uri": "https://localhost:8080/",
          "height": 35
        }
      },
      "cell_type": "code",
      "source": [
        "sn='2045-2322'#'0960-9822'#'2211-3797'\n",
        "get_APC(sn)"
      ],
      "execution_count": 139,
      "outputs": [
        {
          "output_type": "execute_result",
          "data": {
            "text/plain": [
              "'1165GBP'"
            ]
          },
          "metadata": {
            "tags": []
          },
          "execution_count": 139
        }
      ]
    },
    {
      "metadata": {
        "id": "_8faI5JhhAdi",
        "colab_type": "text"
      },
      "cell_type": "markdown",
      "source": [
        "Get for all ISSNs"
      ]
    },
    {
      "metadata": {
        "id": "Ktkg6MXAmoi5",
        "colab_type": "code",
        "colab": {}
      },
      "cell_type": "code",
      "source": [
        ""
      ],
      "execution_count": 0,
      "outputs": []
    },
    {
      "metadata": {
        "id": "q76laVj6msjr",
        "colab_type": "code",
        "colab": {
          "base_uri": "https://localhost:8080/",
          "height": 35
        },
        "outputId": "1f89fa79-0353-4e66-834f-f432b4529d56"
      },
      "cell_type": "code",
      "source": [
        "np.unique([1,2,1])"
      ],
      "execution_count": 149,
      "outputs": [
        {
          "output_type": "execute_result",
          "data": {
            "text/plain": [
              "array([1, 2])"
            ]
          },
          "metadata": {
            "tags": []
          },
          "execution_count": 149
        }
      ]
    },
    {
      "metadata": {
        "id": "W_TFVc8tm3rw",
        "colab_type": "code",
        "colab": {
          "base_uri": "https://localhost:8080/",
          "height": 35
        },
        "outputId": "1b60e96b-05ab-4022-a89a-c7679266c76f"
      },
      "cell_type": "code",
      "source": [
        "udeadois[ udeadois['ISSN']!='' ].ISSN.unique().shape"
      ],
      "execution_count": 165,
      "outputs": [
        {
          "output_type": "execute_result",
          "data": {
            "text/plain": [
              "(2440,)"
            ]
          },
          "metadata": {
            "tags": []
          },
          "execution_count": 165
        }
      ]
    },
    {
      "metadata": {
        "id": "lmWkP_7-rNTj",
        "colab_type": "code",
        "colab": {
          "base_uri": "https://localhost:8080/",
          "height": 35
        },
        "outputId": "cc0602f2-5a86-4866-87d5-3e918b5df2d4"
      },
      "cell_type": "code",
      "source": [
        "import numpy as np\n",
        "listissns=np.unique(  udeadois[ udeadois['ISSNs']!='' ].ISSNs.str.split(',').sum() ) #udeadois[ udeadois['ISSN']!='' ].ISSN.unique()\n",
        "listissns.shape"
      ],
      "execution_count": 166,
      "outputs": [
        {
          "output_type": "execute_result",
          "data": {
            "text/plain": [
              "(621,)"
            ]
          },
          "metadata": {
            "tags": []
          },
          "execution_count": 166
        }
      ]
    },
    {
      "metadata": {
        "id": "NrYsn-gjgVpa",
        "colab_type": "code",
        "colab": {}
      },
      "cell_type": "code",
      "source": [
        "\n",
        "apcs=[]\n",
        "for sn in listissns:\n",
        "    apcs.append({'OAGISSN':sn,'APC':get_APC(sn)})"
      ],
      "execution_count": 0,
      "outputs": []
    },
    {
      "metadata": {
        "id": "jU4r1vqck4Th",
        "colab_type": "code",
        "colab": {}
      },
      "cell_type": "code",
      "source": [
        "apcf=pd.DataFrame( apcs )\n",
        "apcf=apcf.fillna('')"
      ],
      "execution_count": 0,
      "outputs": []
    },
    {
      "metadata": {
        "id": "I39p2NkMB8yS",
        "colab_type": "code",
        "colab": {}
      },
      "cell_type": "code",
      "source": [
        "apc=apcf[apcf.APC!=''].reset_index(drop=True)"
      ],
      "execution_count": 0,
      "outputs": []
    },
    {
      "metadata": {
        "id": "DhGo26NeCT3h",
        "colab_type": "code",
        "outputId": "a7dffeba-dbe5-483f-ec0a-3887519f9faf",
        "colab": {
          "base_uri": "https://localhost:8080/",
          "height": 110
        }
      },
      "cell_type": "code",
      "source": [
        "apc[:2]"
      ],
      "execution_count": 171,
      "outputs": [
        {
          "output_type": "execute_result",
          "data": {
            "text/html": [
              "<div>\n",
              "<style scoped>\n",
              "    .dataframe tbody tr th:only-of-type {\n",
              "        vertical-align: middle;\n",
              "    }\n",
              "\n",
              "    .dataframe tbody tr th {\n",
              "        vertical-align: top;\n",
              "    }\n",
              "\n",
              "    .dataframe thead th {\n",
              "        text-align: right;\n",
              "    }\n",
              "</style>\n",
              "<table border=\"1\" class=\"dataframe\">\n",
              "  <thead>\n",
              "    <tr style=\"text-align: right;\">\n",
              "      <th></th>\n",
              "      <th>APC</th>\n",
              "      <th>ISSN</th>\n",
              "    </tr>\n",
              "  </thead>\n",
              "  <tbody>\n",
              "    <tr>\n",
              "      <th>0</th>\n",
              "      <td>1200USD</td>\n",
              "      <td>0011-393X</td>\n",
              "    </tr>\n",
              "    <tr>\n",
              "      <th>1</th>\n",
              "      <td>1800BRL</td>\n",
              "      <td>0034-8910</td>\n",
              "    </tr>\n",
              "  </tbody>\n",
              "</table>\n",
              "</div>"
            ],
            "text/plain": [
              "       APC       ISSN\n",
              "0  1200USD  0011-393X\n",
              "1  1800BRL  0034-8910"
            ]
          },
          "metadata": {
            "tags": []
          },
          "execution_count": 171
        }
      ]
    },
    {
      "metadata": {
        "id": "tqrR9al4D0if",
        "colab_type": "code",
        "colab": {
          "base_uri": "https://localhost:8080/",
          "height": 35
        },
        "outputId": "8deafbfe-3cdb-46b7-9f80-50aabac5f1db"
      },
      "cell_type": "code",
      "source": [
        "apc.shape"
      ],
      "execution_count": 173,
      "outputs": [
        {
          "output_type": "execute_result",
          "data": {
            "text/plain": [
              "(231, 2)"
            ]
          },
          "metadata": {
            "tags": []
          },
          "execution_count": 173
        }
      ]
    },
    {
      "metadata": {
        "id": "1rLAPS_4hGsw",
        "colab_type": "text"
      },
      "cell_type": "markdown",
      "source": [
        "Conver to APC local currency to USD Dollars"
      ]
    },
    {
      "metadata": {
        "id": "K0Z9jJT6lqfe",
        "colab_type": "code",
        "colab": {}
      },
      "cell_type": "code",
      "source": [
        "import re\n",
        "from currency_converter import CurrencyConverter\n",
        "c = CurrencyConverter()\n",
        "\n",
        "def usd(APC):\n",
        "    import sys\n",
        "    apcusd=0\n",
        "    i=re.search(r\"([0-9\\.\\,]+)([a-zA-Z]+)\",APC)\n",
        "    items=i.groups()\n",
        "    if len(items)==2:\n",
        "        try:\n",
        "            apcusd=c.convert(float(items[0]),items[1],'USD')\n",
        "\n",
        "        #capture error message: https://stackoverflow.com/a/4690655        \n",
        "        except ValueError as e: \n",
        "            #Missing currencies\n",
        "            COP_to_USD=1/3000.\n",
        "            ARS_to_USD=1/36.2\n",
        "            if str(e).split()[0]=='COP':\n",
        "                apcusd=float(items[0])*COP_to_USD\n",
        "            elif str(e).split()[0]=='ARS':\n",
        "                apcusd=float(items[0])*ARS_to_USD\n",
        "            else:\n",
        "                sys.exit(e)\n",
        "    else:\n",
        "        apcusd=0\n",
        "            \n",
        "    return int( apcusd  )"
      ],
      "execution_count": 0,
      "outputs": []
    },
    {
      "metadata": {
        "id": "GMw6Evg3hNzI",
        "colab_type": "text"
      },
      "cell_type": "markdown",
      "source": [
        "Check"
      ]
    },
    {
      "metadata": {
        "id": "RpqZEfjdCfjB",
        "colab_type": "code",
        "outputId": "e0dcfedd-5ac5-496e-d718-c5841d7bdcf1",
        "colab": {
          "base_uri": "https://localhost:8080/",
          "height": 35
        }
      },
      "cell_type": "code",
      "source": [
        "usd( '5000ARS' )"
      ],
      "execution_count": 212,
      "outputs": [
        {
          "output_type": "execute_result",
          "data": {
            "text/plain": [
              "138"
            ]
          },
          "metadata": {
            "tags": []
          },
          "execution_count": 212
        }
      ]
    },
    {
      "metadata": {
        "id": "dPQMzfsihSkL",
        "colab_type": "text"
      },
      "cell_type": "markdown",
      "source": [
        "Apply to DOIs database"
      ]
    },
    {
      "metadata": {
        "id": "2ZUQQV0AmyMV",
        "colab_type": "code",
        "colab": {}
      },
      "cell_type": "code",
      "source": [
        "apc['APC_USD']=apc.APC.apply(usd)"
      ],
      "execution_count": 0,
      "outputs": []
    },
    {
      "metadata": {
        "id": "PkaNmRxUq4cc",
        "colab_type": "code",
        "colab": {}
      },
      "cell_type": "code",
      "source": [
        "REBUILD_APC=False\n",
        "if REBUILD_APC:\n",
        "    apc.to_csv('apc.csv',index=False)"
      ],
      "execution_count": 0,
      "outputs": []
    },
    {
      "metadata": {
        "id": "S_mrSiIAkDwq",
        "colab_type": "code",
        "colab": {
          "base_uri": "https://localhost:8080/",
          "height": 141
        },
        "outputId": "8bf127ac-84ff-4907-e46a-54b9fca48e7d"
      },
      "cell_type": "code",
      "source": [
        "apc[:3]"
      ],
      "execution_count": 221,
      "outputs": [
        {
          "output_type": "execute_result",
          "data": {
            "text/html": [
              "<div>\n",
              "<style scoped>\n",
              "    .dataframe tbody tr th:only-of-type {\n",
              "        vertical-align: middle;\n",
              "    }\n",
              "\n",
              "    .dataframe tbody tr th {\n",
              "        vertical-align: top;\n",
              "    }\n",
              "\n",
              "    .dataframe thead th {\n",
              "        text-align: right;\n",
              "    }\n",
              "</style>\n",
              "<table border=\"1\" class=\"dataframe\">\n",
              "  <thead>\n",
              "    <tr style=\"text-align: right;\">\n",
              "      <th></th>\n",
              "      <th>APC</th>\n",
              "      <th>OAGISSN</th>\n",
              "      <th>APC_USD</th>\n",
              "    </tr>\n",
              "  </thead>\n",
              "  <tbody>\n",
              "    <tr>\n",
              "      <th>0</th>\n",
              "      <td>1200USD</td>\n",
              "      <td>0011-393X</td>\n",
              "      <td>1200</td>\n",
              "    </tr>\n",
              "    <tr>\n",
              "      <th>1</th>\n",
              "      <td>1800BRL</td>\n",
              "      <td>0034-8910</td>\n",
              "      <td>485</td>\n",
              "    </tr>\n",
              "    <tr>\n",
              "      <th>2</th>\n",
              "      <td>400USD</td>\n",
              "      <td>0036-4665</td>\n",
              "      <td>400</td>\n",
              "    </tr>\n",
              "  </tbody>\n",
              "</table>\n",
              "</div>"
            ],
            "text/plain": [
              "       APC    OAGISSN  APC_USD\n",
              "0  1200USD  0011-393X     1200\n",
              "1  1800BRL  0034-8910      485\n",
              "2   400USD  0036-4665      400"
            ]
          },
          "metadata": {
            "tags": []
          },
          "execution_count": 221
        }
      ]
    },
    {
      "metadata": {
        "id": "uswJ28iihX6O",
        "colab_type": "text"
      },
      "cell_type": "markdown",
      "source": [
        "Prepare Final Data base"
      ]
    },
    {
      "metadata": {
        "id": "mZ4CPZzLkfn7",
        "colab_type": "code",
        "colab": {}
      },
      "cell_type": "code",
      "source": [
        "tmp=pd.DataFrame()\n",
        "uay,uan=wp.df_split(udeadois,'ISSNs',Operator='!=',condition='')\n",
        "tmp=tmp.append(uan).reset_index(drop=True)"
      ],
      "execution_count": 0,
      "outputs": []
    },
    {
      "metadata": {
        "id": "6SxWDoKvJ8mL",
        "colab_type": "code",
        "colab": {
          "base_uri": "https://localhost:8080/",
          "height": 248
        },
        "outputId": "0bcb8e4c-b4d5-4bae-a560-d9046bcea038"
      },
      "cell_type": "code",
      "source": [
        "snl=uay['ISSNs'].str.split(',')\n",
        "maxsnl=snl.map(len).max()\n",
        "uasnn=uay.copy()\n",
        "for i in range(maxsnl):\n",
        "    uasnn['ISSN_{}'.format(i)]=uasnn['ISSNs'].str.split(',').str[i]\n",
        "    uasnn=uasnn.merge( apc,left_on='ISSN_{}'.format(i),right_on='OAGISSN',how='left')\n",
        "    uasnn=uasnn.fillna('')\n",
        "    uasnn=uasnn.drop(['ISSN_{}'.format(i)],axis='columns') # remove also OAGISSN\n",
        "    uasny,wasnn=wp.df_split(uasnn,'OAGISSN',Operator='!=',condition='')\n",
        "    tmp=tmp.append(uasny).reset_index(drop=True)\n",
        "    uasnn=uasnn.drop(['OAGISSN'],axis='columns')\n",
        "\n",
        "#uay=uay.fillna('')\n",
        "tmp=wp.fill_NaN(tmp)"
      ],
      "execution_count": 292,
      "outputs": [
        {
          "output_type": "error",
          "ename": "NameError",
          "evalue": "ignored",
          "traceback": [
            "\u001b[0;31m---------------------------------------------------------------------------\u001b[0m",
            "\u001b[0;31mNameError\u001b[0m                                 Traceback (most recent call last)",
            "\u001b[0;32m<ipython-input-292-ccfbfed94d8e>\u001b[0m in \u001b[0;36m<module>\u001b[0;34m()\u001b[0m\n\u001b[1;32m      9\u001b[0m     \u001b[0muasny\u001b[0m\u001b[0;34m,\u001b[0m\u001b[0mwasnn\u001b[0m\u001b[0;34m=\u001b[0m\u001b[0mwp\u001b[0m\u001b[0;34m.\u001b[0m\u001b[0mdf_split\u001b[0m\u001b[0;34m(\u001b[0m\u001b[0muasnn\u001b[0m\u001b[0;34m,\u001b[0m\u001b[0;34m'OAGISSN'\u001b[0m\u001b[0;34m,\u001b[0m\u001b[0mOperator\u001b[0m\u001b[0;34m=\u001b[0m\u001b[0;34m'!='\u001b[0m\u001b[0;34m,\u001b[0m\u001b[0mcondition\u001b[0m\u001b[0;34m=\u001b[0m\u001b[0;34m''\u001b[0m\u001b[0;34m)\u001b[0m\u001b[0;34m\u001b[0m\u001b[0m\n\u001b[1;32m     10\u001b[0m     \u001b[0mtmp\u001b[0m\u001b[0;34m=\u001b[0m\u001b[0mtmp\u001b[0m\u001b[0;34m.\u001b[0m\u001b[0mappend\u001b[0m\u001b[0;34m(\u001b[0m\u001b[0muasny\u001b[0m\u001b[0;34m)\u001b[0m\u001b[0;34m.\u001b[0m\u001b[0mreset_index\u001b[0m\u001b[0;34m(\u001b[0m\u001b[0mdrop\u001b[0m\u001b[0;34m=\u001b[0m\u001b[0;32mTrue\u001b[0m\u001b[0;34m)\u001b[0m\u001b[0;34m\u001b[0m\u001b[0m\n\u001b[0;32m---> 11\u001b[0;31m     \u001b[0muasnn\u001b[0m\u001b[0;34m=\u001b[0m\u001b[0mdrop\u001b[0m\u001b[0;34m(\u001b[0m\u001b[0;34m[\u001b[0m\u001b[0;34m'OAGISSN'\u001b[0m\u001b[0;34m]\u001b[0m\u001b[0;34m,\u001b[0m\u001b[0maxis\u001b[0m\u001b[0;34m=\u001b[0m\u001b[0;34m'columns'\u001b[0m\u001b[0;34m)\u001b[0m\u001b[0;34m\u001b[0m\u001b[0m\n\u001b[0m\u001b[1;32m     12\u001b[0m \u001b[0;34m\u001b[0m\u001b[0m\n\u001b[1;32m     13\u001b[0m \u001b[0;31m#uay=uay.fillna('')\u001b[0m\u001b[0;34m\u001b[0m\u001b[0;34m\u001b[0m\u001b[0m\n",
            "\u001b[0;31mNameError\u001b[0m: name 'drop' is not defined"
          ]
        }
      ]
    },
    {
      "metadata": {
        "id": "IaI1ClbTpf9c",
        "colab_type": "code",
        "colab": {
          "base_uri": "https://localhost:8080/",
          "height": 35
        },
        "outputId": "088fbf18-ccc0-4070-de4c-dd580342eb13"
      },
      "cell_type": "code",
      "source": [
        "tmp.shape,wasnn.shape"
      ],
      "execution_count": 285,
      "outputs": [
        {
          "output_type": "execute_result",
          "data": {
            "text/plain": [
              "((6338, 10), (1661, 10))"
            ]
          },
          "metadata": {
            "tags": []
          },
          "execution_count": 285
        }
      ]
    },
    {
      "metadata": {
        "id": "r_ygPcgPuFJ3",
        "colab_type": "code",
        "colab": {
          "base_uri": "https://localhost:8080/",
          "height": 35
        },
        "outputId": "bf496327-3a82-4acf-f4cc-e04410279509"
      },
      "cell_type": "code",
      "source": [
        "tmp.shape,wasnn.shape"
      ],
      "execution_count": 288,
      "outputs": [
        {
          "output_type": "execute_result",
          "data": {
            "text/plain": [
              "((6267, 10), (1732, 10))"
            ]
          },
          "metadata": {
            "tags": []
          },
          "execution_count": 288
        }
      ]
    },
    {
      "metadata": {
        "id": "HjkBnnMkrVG_",
        "colab_type": "code",
        "colab": {
          "base_uri": "https://localhost:8080/",
          "height": 96
        },
        "outputId": "1aa0634f-ba1a-417a-bb76-3fb933966c47"
      },
      "cell_type": "code",
      "source": [
        "uasnn[:1]"
      ],
      "execution_count": 274,
      "outputs": [
        {
          "output_type": "execute_result",
          "data": {
            "text/html": [
              "<div>\n",
              "<style scoped>\n",
              "    .dataframe tbody tr th:only-of-type {\n",
              "        vertical-align: middle;\n",
              "    }\n",
              "\n",
              "    .dataframe tbody tr th {\n",
              "        vertical-align: top;\n",
              "    }\n",
              "\n",
              "    .dataframe thead th {\n",
              "        text-align: right;\n",
              "    }\n",
              "</style>\n",
              "<table border=\"1\" class=\"dataframe\">\n",
              "  <thead>\n",
              "    <tr style=\"text-align: right;\">\n",
              "      <th></th>\n",
              "      <th>DI</th>\n",
              "      <th>Open_Access</th>\n",
              "      <th>OA_Yellow</th>\n",
              "      <th>OA_Green</th>\n",
              "      <th>ISSNs</th>\n",
              "      <th>OA_Green_Article</th>\n",
              "      <th>ISSN</th>\n",
              "      <th>APC</th>\n",
              "      <th>OAGISSN</th>\n",
              "      <th>APC_USD</th>\n",
              "    </tr>\n",
              "  </thead>\n",
              "  <tbody>\n",
              "    <tr>\n",
              "      <th>0</th>\n",
              "      <td>10.1186/s40104-017-0225-x</td>\n",
              "      <td>10.1186/s40104-017-0225-x</td>\n",
              "      <td></td>\n",
              "      <td>10.1186/s40104-017-0225-x</td>\n",
              "      <td>2049-1891</td>\n",
              "      <td></td>\n",
              "      <td>2049-1891</td>\n",
              "      <td></td>\n",
              "      <td></td>\n",
              "      <td></td>\n",
              "    </tr>\n",
              "  </tbody>\n",
              "</table>\n",
              "</div>"
            ],
            "text/plain": [
              "                          DI                Open_Access OA_Yellow  \\\n",
              "0  10.1186/s40104-017-0225-x  10.1186/s40104-017-0225-x             \n",
              "\n",
              "                    OA_Green      ISSNs OA_Green_Article       ISSN APC  \\\n",
              "0  10.1186/s40104-017-0225-x  2049-1891                   2049-1891       \n",
              "\n",
              "  OAGISSN APC_USD  \n",
              "0                  "
            ]
          },
          "metadata": {
            "tags": []
          },
          "execution_count": 274
        }
      ]
    },
    {
      "metadata": {
        "id": "SRvNEszJrwnJ",
        "colab_type": "code",
        "colab": {
          "base_uri": "https://localhost:8080/",
          "height": 96
        },
        "outputId": "daa85688-053a-4863-95e0-f12b3a2f02c5"
      },
      "cell_type": "code",
      "source": [
        "uasnn[:1]"
      ],
      "execution_count": 250,
      "outputs": [
        {
          "output_type": "execute_result",
          "data": {
            "text/html": [
              "<div>\n",
              "<style scoped>\n",
              "    .dataframe tbody tr th:only-of-type {\n",
              "        vertical-align: middle;\n",
              "    }\n",
              "\n",
              "    .dataframe tbody tr th {\n",
              "        vertical-align: top;\n",
              "    }\n",
              "\n",
              "    .dataframe thead th {\n",
              "        text-align: right;\n",
              "    }\n",
              "</style>\n",
              "<table border=\"1\" class=\"dataframe\">\n",
              "  <thead>\n",
              "    <tr style=\"text-align: right;\">\n",
              "      <th></th>\n",
              "      <th>DI</th>\n",
              "      <th>Open_Access</th>\n",
              "      <th>OA_Yellow</th>\n",
              "      <th>OA_Green</th>\n",
              "      <th>ISSNs</th>\n",
              "      <th>OA_Green_Article</th>\n",
              "      <th>ISSN</th>\n",
              "      <th>ISSN_1</th>\n",
              "      <th>APC</th>\n",
              "      <th>OAGISSN</th>\n",
              "      <th>APC_USD</th>\n",
              "    </tr>\n",
              "  </thead>\n",
              "  <tbody>\n",
              "    <tr>\n",
              "      <th>0</th>\n",
              "      <td>10.1186/s40104-017-0225-x</td>\n",
              "      <td>10.1186/s40104-017-0225-x</td>\n",
              "      <td></td>\n",
              "      <td>10.1186/s40104-017-0225-x</td>\n",
              "      <td>2049-1891</td>\n",
              "      <td></td>\n",
              "      <td>2049-1891</td>\n",
              "      <td></td>\n",
              "      <td></td>\n",
              "      <td></td>\n",
              "      <td></td>\n",
              "    </tr>\n",
              "  </tbody>\n",
              "</table>\n",
              "</div>"
            ],
            "text/plain": [
              "                          DI                Open_Access OA_Yellow  \\\n",
              "0  10.1186/s40104-017-0225-x  10.1186/s40104-017-0225-x             \n",
              "\n",
              "                    OA_Green      ISSNs OA_Green_Article       ISSN ISSN_1  \\\n",
              "0  10.1186/s40104-017-0225-x  2049-1891                   2049-1891          \n",
              "\n",
              "  APC OAGISSN APC_USD  \n",
              "0                      "
            ]
          },
          "metadata": {
            "tags": []
          },
          "execution_count": 250
        }
      ]
    },
    {
      "metadata": {
        "id": "dV2BVlXSqJ33",
        "colab_type": "code",
        "colab": {
          "base_uri": "https://localhost:8080/",
          "height": 133
        },
        "outputId": "b7a69b1a-cf72-4429-a85d-5e8ec6cf715d"
      },
      "cell_type": "code",
      "source": [
        "uasnn.drop(['ISSN_{}'.format(i)],axis='columns')[:1] # remove also OAGISSN"
      ],
      "execution_count": 249,
      "outputs": [
        {
          "output_type": "execute_result",
          "data": {
            "text/html": [
              "<div>\n",
              "<style scoped>\n",
              "    .dataframe tbody tr th:only-of-type {\n",
              "        vertical-align: middle;\n",
              "    }\n",
              "\n",
              "    .dataframe tbody tr th {\n",
              "        vertical-align: top;\n",
              "    }\n",
              "\n",
              "    .dataframe thead th {\n",
              "        text-align: right;\n",
              "    }\n",
              "</style>\n",
              "<table border=\"1\" class=\"dataframe\">\n",
              "  <thead>\n",
              "    <tr style=\"text-align: right;\">\n",
              "      <th></th>\n",
              "      <th>DI</th>\n",
              "      <th>Open_Access</th>\n",
              "      <th>OA_Yellow</th>\n",
              "      <th>OA_Green</th>\n",
              "      <th>ISSNs</th>\n",
              "      <th>OA_Green_Article</th>\n",
              "      <th>ISSN</th>\n",
              "      <th>APC</th>\n",
              "      <th>OAGISSN</th>\n",
              "      <th>APC_USD</th>\n",
              "    </tr>\n",
              "  </thead>\n",
              "  <tbody>\n",
              "    <tr>\n",
              "      <th>0</th>\n",
              "      <td>10.1155/2017/6987896</td>\n",
              "      <td>10.1155/2017/6987896</td>\n",
              "      <td></td>\n",
              "      <td>10.1155/2017/6987896</td>\n",
              "      <td>2090-6722,2090-6730</td>\n",
              "      <td></td>\n",
              "      <td>2090-6722</td>\n",
              "      <td>400USD</td>\n",
              "      <td>2090-6730</td>\n",
              "      <td>400</td>\n",
              "    </tr>\n",
              "  </tbody>\n",
              "</table>\n",
              "</div>"
            ],
            "text/plain": [
              "                     DI           Open_Access OA_Yellow              OA_Green  \\\n",
              "0  10.1155/2017/6987896  10.1155/2017/6987896            10.1155/2017/6987896   \n",
              "\n",
              "                 ISSNs OA_Green_Article       ISSN     APC    OAGISSN APC_USD  \n",
              "0  2090-6722,2090-6730                   2090-6722  400USD  2090-6730     400  "
            ]
          },
          "metadata": {
            "tags": []
          },
          "execution_count": 249
        }
      ]
    },
    {
      "metadata": {
        "id": "2z5JYKfQLcPr",
        "colab_type": "code",
        "colab": {
          "base_uri": "https://localhost:8080/",
          "height": 96
        },
        "outputId": "af83bced-3758-4738-a342-f5e012e85fd7"
      },
      "cell_type": "code",
      "source": [
        "udea"
      ],
      "execution_count": 242,
      "outputs": [
        {
          "output_type": "execute_result",
          "data": {
            "text/html": [
              "<div>\n",
              "<style scoped>\n",
              "    .dataframe tbody tr th:only-of-type {\n",
              "        vertical-align: middle;\n",
              "    }\n",
              "\n",
              "    .dataframe tbody tr th {\n",
              "        vertical-align: top;\n",
              "    }\n",
              "\n",
              "    .dataframe thead th {\n",
              "        text-align: right;\n",
              "    }\n",
              "</style>\n",
              "<table border=\"1\" class=\"dataframe\">\n",
              "  <thead>\n",
              "    <tr style=\"text-align: right;\">\n",
              "      <th></th>\n",
              "      <th>DI</th>\n",
              "      <th>Open_Access</th>\n",
              "      <th>OA_Yellow</th>\n",
              "      <th>OA_Green</th>\n",
              "      <th>ISSNs</th>\n",
              "      <th>OA_Green_Article</th>\n",
              "      <th>ISSN</th>\n",
              "      <th>ISSN_1</th>\n",
              "      <th>APC</th>\n",
              "      <th>OAGISSN</th>\n",
              "      <th>APC_USD</th>\n",
              "    </tr>\n",
              "  </thead>\n",
              "  <tbody>\n",
              "    <tr>\n",
              "      <th>0</th>\n",
              "      <td>10.1186/s40104-017-0225-x</td>\n",
              "      <td>10.1186/s40104-017-0225-x</td>\n",
              "      <td></td>\n",
              "      <td>10.1186/s40104-017-0225-x</td>\n",
              "      <td>2049-1891</td>\n",
              "      <td></td>\n",
              "      <td>2049-1891</td>\n",
              "      <td></td>\n",
              "      <td></td>\n",
              "      <td></td>\n",
              "      <td></td>\n",
              "    </tr>\n",
              "  </tbody>\n",
              "</table>\n",
              "</div>"
            ],
            "text/plain": [
              "                          DI                Open_Access OA_Yellow  \\\n",
              "0  10.1186/s40104-017-0225-x  10.1186/s40104-017-0225-x             \n",
              "\n",
              "                    OA_Green      ISSNs OA_Green_Article       ISSN ISSN_1  \\\n",
              "0  10.1186/s40104-017-0225-x  2049-1891                   2049-1891          \n",
              "\n",
              "  APC OAGISSN APC_USD  \n",
              "0                      "
            ]
          },
          "metadata": {
            "tags": []
          },
          "execution_count": 242
        }
      ]
    },
    {
      "metadata": {
        "id": "vuXaMxkoprTe",
        "colab_type": "code",
        "colab": {
          "base_uri": "https://localhost:8080/",
          "height": 133
        },
        "outputId": "ff610e01-67cb-4e36-b3ce-9d804f2876f6"
      },
      "cell_type": "code",
      "source": [
        "uasny[:1]"
      ],
      "execution_count": 241,
      "outputs": [
        {
          "output_type": "execute_result",
          "data": {
            "text/html": [
              "<div>\n",
              "<style scoped>\n",
              "    .dataframe tbody tr th:only-of-type {\n",
              "        vertical-align: middle;\n",
              "    }\n",
              "\n",
              "    .dataframe tbody tr th {\n",
              "        vertical-align: top;\n",
              "    }\n",
              "\n",
              "    .dataframe thead th {\n",
              "        text-align: right;\n",
              "    }\n",
              "</style>\n",
              "<table border=\"1\" class=\"dataframe\">\n",
              "  <thead>\n",
              "    <tr style=\"text-align: right;\">\n",
              "      <th></th>\n",
              "      <th>DI</th>\n",
              "      <th>Open_Access</th>\n",
              "      <th>OA_Yellow</th>\n",
              "      <th>OA_Green</th>\n",
              "      <th>ISSNs</th>\n",
              "      <th>OA_Green_Article</th>\n",
              "      <th>ISSN</th>\n",
              "      <th>ISSN_1</th>\n",
              "      <th>APC</th>\n",
              "      <th>OAGISSN</th>\n",
              "      <th>APC_USD</th>\n",
              "    </tr>\n",
              "  </thead>\n",
              "  <tbody>\n",
              "    <tr>\n",
              "      <th>0</th>\n",
              "      <td>10.1155/2017/6987896</td>\n",
              "      <td>10.1155/2017/6987896</td>\n",
              "      <td></td>\n",
              "      <td>10.1155/2017/6987896</td>\n",
              "      <td>2090-6722,2090-6730</td>\n",
              "      <td></td>\n",
              "      <td>2090-6722</td>\n",
              "      <td>2090-6730</td>\n",
              "      <td>400USD</td>\n",
              "      <td>2090-6730</td>\n",
              "      <td>400</td>\n",
              "    </tr>\n",
              "  </tbody>\n",
              "</table>\n",
              "</div>"
            ],
            "text/plain": [
              "                     DI           Open_Access OA_Yellow              OA_Green  \\\n",
              "0  10.1155/2017/6987896  10.1155/2017/6987896            10.1155/2017/6987896   \n",
              "\n",
              "                 ISSNs OA_Green_Article       ISSN     ISSN_1     APC  \\\n",
              "0  2090-6722,2090-6730                   2090-6722  2090-6730  400USD   \n",
              "\n",
              "     OAGISSN APC_USD  \n",
              "0  2090-6730     400  "
            ]
          },
          "metadata": {
            "tags": []
          },
          "execution_count": 241
        }
      ]
    },
    {
      "metadata": {
        "id": "qAGJruTfISy6",
        "colab_type": "code",
        "colab": {
          "base_uri": "https://localhost:8080/",
          "height": 138
        },
        "outputId": "b3efe022-5063-4cad-b1fe-98b8991e4795"
      },
      "cell_type": "code",
      "source": [
        "apcy=[]udeadois['ISSNs']!=''"
      ],
      "execution_count": 202,
      "outputs": [
        {
          "output_type": "error",
          "ename": "SyntaxError",
          "evalue": "ignored",
          "traceback": [
            "\u001b[0;36m  File \u001b[0;32m\"<ipython-input-202-4afe8a59801f>\"\u001b[0;36m, line \u001b[0;32m1\u001b[0m\n\u001b[0;31m    apcy=[]udeadois['ISSNs']!=''\u001b[0m\n\u001b[0m                  ^\u001b[0m\n\u001b[0;31mSyntaxError\u001b[0m\u001b[0;31m:\u001b[0m invalid syntax\n"
          ]
        }
      ]
    },
    {
      "metadata": {
        "id": "r5MmWfz0JEhP",
        "colab_type": "code",
        "colab": {}
      },
      "cell_type": "code",
      "source": [
        "UDEADOIS=udeadois.merge(apc,on='ISSN',how='left')"
      ],
      "execution_count": 0,
      "outputs": []
    },
    {
      "metadata": {
        "id": "geKRlo2On4wa",
        "colab_type": "code",
        "colab": {}
      },
      "cell_type": "code",
      "source": [
        "UDEADOIS=wp.fill_NaN( UDEADOIS )"
      ],
      "execution_count": 0,
      "outputs": []
    },
    {
      "metadata": {
        "id": "PUTUhbOJLxZU",
        "colab_type": "code",
        "colab": {}
      },
      "cell_type": "code",
      "source": [
        "if REBUILD_DB:\n",
        "    UDEADOIS.to_excel('oaudea.xlsx',index=False)"
      ],
      "execution_count": 0,
      "outputs": []
    },
    {
      "metadata": {
        "id": "n4qfskkWnWXp",
        "colab_type": "text"
      },
      "cell_type": "markdown",
      "source": [
        "Quality checks: Only Open Access have APCs. Expected 0"
      ]
    },
    {
      "metadata": {
        "id": "sPEwhPRjncRm",
        "colab_type": "code",
        "outputId": "a39dfee7-f7c3-4b5f-d070-99f234e8c631",
        "colab": {
          "base_uri": "https://localhost:8080/",
          "height": 34
        }
      },
      "cell_type": "code",
      "source": [
        "tmp=UDEADOIS[UDEADOIS['Open_Access']=='']\n",
        "tmp[ tmp['APC']!=''].shape # expected 0"
      ],
      "execution_count": 0,
      "outputs": [
        {
          "output_type": "execute_result",
          "data": {
            "text/plain": [
              "(24, 8)"
            ]
          },
          "metadata": {
            "tags": []
          },
          "execution_count": 307
        }
      ]
    },
    {
      "metadata": {
        "id": "z2vXfdtrh3D7",
        "colab_type": "text"
      },
      "cell_type": "markdown",
      "source": [
        "### Number of Open Acces articles with APC information"
      ]
    },
    {
      "metadata": {
        "id": "JOJkYv4zJtyn",
        "colab_type": "code",
        "colab": {}
      },
      "cell_type": "code",
      "source": [
        "OAUDEA=UDEADOIS[ np.logical_or (UDEADOIS['OA_Green']!='',UDEADOIS['OA_Green_Article']!='') ]"
      ],
      "execution_count": 0,
      "outputs": []
    },
    {
      "metadata": {
        "id": "SzjqwFdlQAwe",
        "colab_type": "code",
        "outputId": "b9010c63-f577-437c-8d81-681ab5fbed98",
        "colab": {
          "base_uri": "https://localhost:8080/",
          "height": 175
        }
      },
      "cell_type": "code",
      "source": [
        "OAUDEA[OAUDEA['APC']!='']"
      ],
      "execution_count": 211,
      "outputs": [
        {
          "output_type": "error",
          "ename": "NameError",
          "evalue": "ignored",
          "traceback": [
            "\u001b[0;31m---------------------------------------------------------------------------\u001b[0m",
            "\u001b[0;31mNameError\u001b[0m                                 Traceback (most recent call last)",
            "\u001b[0;32m<ipython-input-211-50952384e984>\u001b[0m in \u001b[0;36m<module>\u001b[0;34m()\u001b[0m\n\u001b[0;32m----> 1\u001b[0;31m \u001b[0mOAUDEA\u001b[0m\u001b[0;34m[\u001b[0m\u001b[0mOAUDEA\u001b[0m\u001b[0;34m[\u001b[0m\u001b[0;34m'APC'\u001b[0m\u001b[0;34m]\u001b[0m\u001b[0;34m!=\u001b[0m\u001b[0;34m''\u001b[0m\u001b[0;34m]\u001b[0m\u001b[0;34m\u001b[0m\u001b[0m\n\u001b[0m",
            "\u001b[0;31mNameError\u001b[0m: name 'OAUDEA' is not defined"
          ]
        }
      ]
    },
    {
      "metadata": {
        "id": "Z93nI3rRoGed",
        "colab_type": "text"
      },
      "cell_type": "markdown",
      "source": [
        "### Calculates APC"
      ]
    },
    {
      "metadata": {
        "id": "5bYJfZJeQdcw",
        "colab_type": "code",
        "outputId": "26dc71bf-d971-4cd4-8b48-6f189951006d",
        "colab": {
          "base_uri": "https://localhost:8080/",
          "height": 34
        }
      },
      "cell_type": "code",
      "source": [
        "OAUDEA.APC_USD.sum()"
      ],
      "execution_count": 0,
      "outputs": [
        {
          "output_type": "execute_result",
          "data": {
            "text/plain": [
              "920276.0"
            ]
          },
          "metadata": {
            "tags": []
          },
          "execution_count": 323
        }
      ]
    },
    {
      "metadata": {
        "id": "CNE8JHQaiB2t",
        "colab_type": "text"
      },
      "cell_type": "markdown",
      "source": [
        "## The end\n",
        "Be sure the notebook stop"
      ]
    },
    {
      "metadata": {
        "id": "QJ6g96CsiIKJ",
        "colab_type": "code",
        "colab": {}
      },
      "cell_type": "code",
      "source": [
        "STOPHERE"
      ],
      "execution_count": 0,
      "outputs": []
    },
    {
      "metadata": {
        "id": "MRkTjdNghEuh",
        "colab_type": "text"
      },
      "cell_type": "markdown",
      "source": [
        "## Add year information"
      ]
    },
    {
      "metadata": {
        "id": "ZOGwU2VvhIyz",
        "colab_type": "code",
        "colab": {}
      },
      "cell_type": "code",
      "source": [
        "udea['Year']=( udea['PY'].astype(str)+';'+udea['SCI_PY'].astype(str)+';'+udea['SCP_Year'].astype(str) ).str.split(';').str[0].astype(int)"
      ],
      "execution_count": 0,
      "outputs": []
    },
    {
      "metadata": {
        "id": "1GaXgkUvidtD",
        "colab_type": "code",
        "colab": {}
      },
      "cell_type": "code",
      "source": [
        "udeay=udea[udea.DI!='']"
      ],
      "execution_count": 0,
      "outputs": []
    },
    {
      "metadata": {
        "id": "e8eDOxFCizcm",
        "colab_type": "code",
        "colab": {}
      },
      "cell_type": "code",
      "source": [
        "UDEADOIS=files.read_drive_excel('oaudea.xlsx')"
      ],
      "execution_count": 0,
      "outputs": []
    },
    {
      "metadata": {
        "id": "nVv63IbzkDYE",
        "colab_type": "code",
        "colab": {}
      },
      "cell_type": "code",
      "source": [
        "UDEADOIS=wp.fill_NaN( UDEADOIS )"
      ],
      "execution_count": 0,
      "outputs": []
    },
    {
      "metadata": {
        "id": "MP5ZdLiFiW2W",
        "colab_type": "code",
        "colab": {}
      },
      "cell_type": "code",
      "source": [
        "UDEADOIS=UDEADOIS.merge( udeay[['DI','Year']],on='DI',how='left' )"
      ],
      "execution_count": 0,
      "outputs": []
    },
    {
      "metadata": {
        "id": "rM1G7dewleNy",
        "colab_type": "code",
        "outputId": "6ee91692-d901-490b-8c84-7873cb3b2680",
        "colab": {
          "base_uri": "https://localhost:8080/",
          "height": 79
        }
      },
      "cell_type": "code",
      "source": [
        "UDEADOIS[:1]"
      ],
      "execution_count": 0,
      "outputs": [
        {
          "output_type": "execute_result",
          "data": {
            "text/html": [
              "<div>\n",
              "<style scoped>\n",
              "    .dataframe tbody tr th:only-of-type {\n",
              "        vertical-align: middle;\n",
              "    }\n",
              "\n",
              "    .dataframe tbody tr th {\n",
              "        vertical-align: top;\n",
              "    }\n",
              "\n",
              "    .dataframe thead th {\n",
              "        text-align: right;\n",
              "    }\n",
              "</style>\n",
              "<table border=\"1\" class=\"dataframe\">\n",
              "  <thead>\n",
              "    <tr style=\"text-align: right;\">\n",
              "      <th></th>\n",
              "      <th>DI</th>\n",
              "      <th>Open_Access</th>\n",
              "      <th>OA_Yellow</th>\n",
              "      <th>OA_Green</th>\n",
              "      <th>OA_Green_Article</th>\n",
              "      <th>ISSN</th>\n",
              "      <th>APC</th>\n",
              "      <th>APC_USD</th>\n",
              "      <th>Year</th>\n",
              "    </tr>\n",
              "  </thead>\n",
              "  <tbody>\n",
              "    <tr>\n",
              "      <th>0</th>\n",
              "      <td>10.7705/biomedica.v37i3.4058</td>\n",
              "      <td>10.7705/biomedica.v37i3.4058</td>\n",
              "      <td>10.7705/biomedica.v37i3.4058</td>\n",
              "      <td></td>\n",
              "      <td></td>\n",
              "      <td>0120-4157</td>\n",
              "      <td></td>\n",
              "      <td>0</td>\n",
              "      <td>2017</td>\n",
              "    </tr>\n",
              "  </tbody>\n",
              "</table>\n",
              "</div>"
            ],
            "text/plain": [
              "                             DI                   Open_Access  \\\n",
              "0  10.7705/biomedica.v37i3.4058  10.7705/biomedica.v37i3.4058   \n",
              "\n",
              "                      OA_Yellow OA_Green OA_Green_Article       ISSN APC  \\\n",
              "0  10.7705/biomedica.v37i3.4058                            0120-4157       \n",
              "\n",
              "   APC_USD  Year  \n",
              "0        0  2017  "
            ]
          },
          "metadata": {
            "tags": []
          },
          "execution_count": 35
        }
      ]
    },
    {
      "metadata": {
        "id": "V_RUiD-olDIn",
        "colab_type": "code",
        "colab": {}
      },
      "cell_type": "code",
      "source": [
        "if REBUILD_DB:\n",
        "#if True:    \n",
        "    UDEADOIS.to_excel('oaudea.xlsx',index=False)"
      ],
      "execution_count": 0,
      "outputs": []
    },
    {
      "metadata": {
        "id": "J-5CpOm1mCty",
        "colab_type": "code",
        "colab": {}
      },
      "cell_type": "code",
      "source": [
        "OAUDEA=UDEADOIS[ np.logical_or (UDEADOIS['OA_Green']!='',UDEADOIS['OA_Green_Article']!='') ]"
      ],
      "execution_count": 0,
      "outputs": []
    },
    {
      "metadata": {
        "id": "eiwO3lCVmIGv",
        "colab_type": "code",
        "outputId": "6bfe45cb-177e-4d02-85de-90966ece844b",
        "colab": {
          "base_uri": "https://localhost:8080/",
          "height": 35
        }
      },
      "cell_type": "code",
      "source": [
        "OAUDEA[OAUDEA['APC']!=''].shape"
      ],
      "execution_count": 0,
      "outputs": [
        {
          "output_type": "execute_result",
          "data": {
            "text/plain": [
              "(627, 9)"
            ]
          },
          "metadata": {
            "tags": []
          },
          "execution_count": 40
        }
      ]
    },
    {
      "metadata": {
        "id": "_QdYUhsemNnT",
        "colab_type": "code",
        "outputId": "e877a61a-4494-4f54-f1ae-5878746bd884",
        "colab": {
          "base_uri": "https://localhost:8080/",
          "height": 365
        }
      },
      "cell_type": "code",
      "source": [
        "OAUDEA[OAUDEA['APC']!=''].Year.hist()"
      ],
      "execution_count": 0,
      "outputs": [
        {
          "output_type": "execute_result",
          "data": {
            "text/plain": [
              "<matplotlib.axes._subplots.AxesSubplot at 0x7f9f7e30cb38>"
            ]
          },
          "metadata": {
            "tags": []
          },
          "execution_count": 42
        },
        {
          "output_type": "display_data",
          "data": {
            "image/png": "[encoded data removed]",
            "text/plain": [
              "<matplotlib.figure.Figure at 0x7f9f7fe07d68>"
            ]
          },
          "metadata": {
            "tags": []
          }
        }
      ]
    },
    {
      "metadata": {
        "id": "mNTEnTQjJuLx",
        "colab_type": "text"
      },
      "cell_type": "markdown",
      "source": [
        "# Consultar  DOAJ API con DOI\n",
        "Ver: https://doaj.org/api/v1/docs#!/Search/get_api_v1_search_articles_search_query"
      ]
    },
    {
      "metadata": {
        "id": "j39HDif4NpPJ",
        "colab_type": "text"
      },
      "cell_type": "markdown",
      "source": [
        "## Carga navegador JSON"
      ]
    },
    {
      "metadata": {
        "id": "izdwSa5RJ0Ec",
        "colab_type": "code",
        "colab": {}
      },
      "cell_type": "code",
      "source": [
        "import pandas as pd"
      ],
      "execution_count": 0,
      "outputs": []
    },
    {
      "metadata": {
        "id": "INjfBi7KNmJP",
        "colab_type": "text"
      },
      "cell_type": "markdown",
      "source": [
        "## Consulta"
      ]
    },
    {
      "metadata": {
        "id": "5c8D7U-mJ3g6",
        "colab_type": "code",
        "colab": {}
      },
      "cell_type": "code",
      "source": [
        "DOI='10.1016/j.physletb.2018.01.009'\n",
        "df=pd.read_json('https://doaj.org/api/v1/search/articles/{}'.format(DOI))"
      ],
      "execution_count": 0,
      "outputs": []
    },
    {
      "metadata": {
        "id": "M84vNkUSNPeM",
        "colab_type": "text"
      },
      "cell_type": "markdown",
      "source": [
        "## Análisis de resultado:\n",
        "Nota: La celdas con estructuras anidadas (que comienzan con `[` ó `{`) sa analizan secuencialmente"
      ]
    },
    {
      "metadata": {
        "id": "m7ahe4ZaNOb9",
        "colab_type": "code",
        "outputId": "797cca3f-6de1-403b-9bcf-2e3f8a805503",
        "colab": {
          "base_uri": "https://localhost:8080/",
          "height": 79
        }
      },
      "cell_type": "code",
      "source": [
        "df"
      ],
      "execution_count": 0,
      "outputs": [
        {
          "output_type": "execute_result",
          "data": {
            "text/html": [
              "<div>\n",
              "<style scoped>\n",
              "    .dataframe tbody tr th:only-of-type {\n",
              "        vertical-align: middle;\n",
              "    }\n",
              "\n",
              "    .dataframe tbody tr th {\n",
              "        vertical-align: top;\n",
              "    }\n",
              "\n",
              "    .dataframe thead th {\n",
              "        text-align: right;\n",
              "    }\n",
              "</style>\n",
              "<table border=\"1\" class=\"dataframe\">\n",
              "  <thead>\n",
              "    <tr style=\"text-align: right;\">\n",
              "      <th></th>\n",
              "      <th>last</th>\n",
              "      <th>page</th>\n",
              "      <th>pageSize</th>\n",
              "      <th>query</th>\n",
              "      <th>results</th>\n",
              "      <th>timestamp</th>\n",
              "      <th>total</th>\n",
              "    </tr>\n",
              "  </thead>\n",
              "  <tbody>\n",
              "    <tr>\n",
              "      <th>0</th>\n",
              "      <td>https://doaj.org/api/v1/search/articles/10.101...</td>\n",
              "      <td>1</td>\n",
              "      <td>10</td>\n",
              "      <td>10.1016/j.physletb.2018.01.009</td>\n",
              "      <td>{u'last_updated': u'2018-03-05T12:09:16Z', u'i...</td>\n",
              "      <td>2018-1010T04:23:08Z</td>\n",
              "      <td>1</td>\n",
              "    </tr>\n",
              "  </tbody>\n",
              "</table>\n",
              "</div>"
            ],
            "text/plain": [
              "                                                last  page  pageSize  \\\n",
              "0  https://doaj.org/api/v1/search/articles/10.101...     1        10   \n",
              "\n",
              "                            query  \\\n",
              "0  10.1016/j.physletb.2018.01.009   \n",
              "\n",
              "                                             results            timestamp  \\\n",
              "0  {u'last_updated': u'2018-03-05T12:09:16Z', u'i...  2018-1010T04:23:08Z   \n",
              "\n",
              "   total  \n",
              "0      1  "
            ]
          },
          "metadata": {
            "tags": []
          },
          "execution_count": 32
        }
      ]
    },
    {
      "metadata": {
        "id": "lzgDcW8NNyAv",
        "colab_type": "text"
      },
      "cell_type": "markdown",
      "source": [
        "Desplegar colunna __results__:"
      ]
    },
    {
      "metadata": {
        "id": "5vcp02fQKCu2",
        "colab_type": "code",
        "outputId": "2ee1ee4b-b0d1-4149-8495-a626f27326dc",
        "colab": {
          "base_uri": "https://localhost:8080/",
          "height": 387
        }
      },
      "cell_type": "code",
      "source": [
        "p=pd.DataFrame(  df['results'].values[0] )\n",
        "p"
      ],
      "execution_count": 0,
      "outputs": [
        {
          "output_type": "execute_result",
          "data": {
            "text/html": [
              "<div>\n",
              "<style scoped>\n",
              "    .dataframe tbody tr th:only-of-type {\n",
              "        vertical-align: middle;\n",
              "    }\n",
              "\n",
              "    .dataframe tbody tr th {\n",
              "        vertical-align: top;\n",
              "    }\n",
              "\n",
              "    .dataframe thead th {\n",
              "        text-align: right;\n",
              "    }\n",
              "</style>\n",
              "<table border=\"1\" class=\"dataframe\">\n",
              "  <thead>\n",
              "    <tr style=\"text-align: right;\">\n",
              "      <th></th>\n",
              "      <th>bibjson</th>\n",
              "      <th>created_date</th>\n",
              "      <th>id</th>\n",
              "      <th>last_updated</th>\n",
              "    </tr>\n",
              "  </thead>\n",
              "  <tbody>\n",
              "    <tr>\n",
              "      <th>abstract</th>\n",
              "      <td>The observation of neutrino oscillations estab...</td>\n",
              "      <td>2018-03-05T12:09:16Z</td>\n",
              "      <td>03ba3f288d8341d380a286a6d0f64de4</td>\n",
              "      <td>2018-03-05T12:09:16Z</td>\n",
              "    </tr>\n",
              "    <tr>\n",
              "      <th>author</th>\n",
              "      <td>[{u'affiliation': u'Physics Department, Univer...</td>\n",
              "      <td>2018-03-05T12:09:16Z</td>\n",
              "      <td>03ba3f288d8341d380a286a6d0f64de4</td>\n",
              "      <td>2018-03-05T12:09:16Z</td>\n",
              "    </tr>\n",
              "    <tr>\n",
              "      <th>end_page</th>\n",
              "      <td>100</td>\n",
              "      <td>2018-03-05T12:09:16Z</td>\n",
              "      <td>03ba3f288d8341d380a286a6d0f64de4</td>\n",
              "      <td>2018-03-05T12:09:16Z</td>\n",
              "    </tr>\n",
              "    <tr>\n",
              "      <th>identifier</th>\n",
              "      <td>[{u'type': u'pissn', u'id': u'0370-2693'}, {u'...</td>\n",
              "      <td>2018-03-05T12:09:16Z</td>\n",
              "      <td>03ba3f288d8341d380a286a6d0f64de4</td>\n",
              "      <td>2018-03-05T12:09:16Z</td>\n",
              "    </tr>\n",
              "    <tr>\n",
              "      <th>journal</th>\n",
              "      <td>{u'publisher': u'Elsevier', u'language': [u'EN...</td>\n",
              "      <td>2018-03-05T12:09:16Z</td>\n",
              "      <td>03ba3f288d8341d380a286a6d0f64de4</td>\n",
              "      <td>2018-03-05T12:09:16Z</td>\n",
              "    </tr>\n",
              "    <tr>\n",
              "      <th>link</th>\n",
              "      <td>[{u'url': u'http://www.sciencedirect.com/scien...</td>\n",
              "      <td>2018-03-05T12:09:16Z</td>\n",
              "      <td>03ba3f288d8341d380a286a6d0f64de4</td>\n",
              "      <td>2018-03-05T12:09:16Z</td>\n",
              "    </tr>\n",
              "    <tr>\n",
              "      <th>month</th>\n",
              "      <td>3</td>\n",
              "      <td>2018-03-05T12:09:16Z</td>\n",
              "      <td>03ba3f288d8341d380a286a6d0f64de4</td>\n",
              "      <td>2018-03-05T12:09:16Z</td>\n",
              "    </tr>\n",
              "    <tr>\n",
              "      <th>start_page</th>\n",
              "      <td>94</td>\n",
              "      <td>2018-03-05T12:09:16Z</td>\n",
              "      <td>03ba3f288d8341d380a286a6d0f64de4</td>\n",
              "      <td>2018-03-05T12:09:16Z</td>\n",
              "    </tr>\n",
              "    <tr>\n",
              "      <th>subject</th>\n",
              "      <td>[{u'code': u'QC1-999', u'term': u'Physics', u'...</td>\n",
              "      <td>2018-03-05T12:09:16Z</td>\n",
              "      <td>03ba3f288d8341d380a286a6d0f64de4</td>\n",
              "      <td>2018-03-05T12:09:16Z</td>\n",
              "    </tr>\n",
              "    <tr>\n",
              "      <th>title</th>\n",
              "      <td>Expanding the reach of heavy neutrino searches...</td>\n",
              "      <td>2018-03-05T12:09:16Z</td>\n",
              "      <td>03ba3f288d8341d380a286a6d0f64de4</td>\n",
              "      <td>2018-03-05T12:09:16Z</td>\n",
              "    </tr>\n",
              "    <tr>\n",
              "      <th>year</th>\n",
              "      <td>2018</td>\n",
              "      <td>2018-03-05T12:09:16Z</td>\n",
              "      <td>03ba3f288d8341d380a286a6d0f64de4</td>\n",
              "      <td>2018-03-05T12:09:16Z</td>\n",
              "    </tr>\n",
              "  </tbody>\n",
              "</table>\n",
              "</div>"
            ],
            "text/plain": [
              "                                                      bibjson  \\\n",
              "abstract    The observation of neutrino oscillations estab...   \n",
              "author      [{u'affiliation': u'Physics Department, Univer...   \n",
              "end_page                                                  100   \n",
              "identifier  [{u'type': u'pissn', u'id': u'0370-2693'}, {u'...   \n",
              "journal     {u'publisher': u'Elsevier', u'language': [u'EN...   \n",
              "link        [{u'url': u'http://www.sciencedirect.com/scien...   \n",
              "month                                                       3   \n",
              "start_page                                                 94   \n",
              "subject     [{u'code': u'QC1-999', u'term': u'Physics', u'...   \n",
              "title       Expanding the reach of heavy neutrino searches...   \n",
              "year                                                     2018   \n",
              "\n",
              "                    created_date                                id  \\\n",
              "abstract    2018-03-05T12:09:16Z  03ba3f288d8341d380a286a6d0f64de4   \n",
              "author      2018-03-05T12:09:16Z  03ba3f288d8341d380a286a6d0f64de4   \n",
              "end_page    2018-03-05T12:09:16Z  03ba3f288d8341d380a286a6d0f64de4   \n",
              "identifier  2018-03-05T12:09:16Z  03ba3f288d8341d380a286a6d0f64de4   \n",
              "journal     2018-03-05T12:09:16Z  03ba3f288d8341d380a286a6d0f64de4   \n",
              "link        2018-03-05T12:09:16Z  03ba3f288d8341d380a286a6d0f64de4   \n",
              "month       2018-03-05T12:09:16Z  03ba3f288d8341d380a286a6d0f64de4   \n",
              "start_page  2018-03-05T12:09:16Z  03ba3f288d8341d380a286a6d0f64de4   \n",
              "subject     2018-03-05T12:09:16Z  03ba3f288d8341d380a286a6d0f64de4   \n",
              "title       2018-03-05T12:09:16Z  03ba3f288d8341d380a286a6d0f64de4   \n",
              "year        2018-03-05T12:09:16Z  03ba3f288d8341d380a286a6d0f64de4   \n",
              "\n",
              "                    last_updated  \n",
              "abstract    2018-03-05T12:09:16Z  \n",
              "author      2018-03-05T12:09:16Z  \n",
              "end_page    2018-03-05T12:09:16Z  \n",
              "identifier  2018-03-05T12:09:16Z  \n",
              "journal     2018-03-05T12:09:16Z  \n",
              "link        2018-03-05T12:09:16Z  \n",
              "month       2018-03-05T12:09:16Z  \n",
              "start_page  2018-03-05T12:09:16Z  \n",
              "subject     2018-03-05T12:09:16Z  \n",
              "title       2018-03-05T12:09:16Z  \n",
              "year        2018-03-05T12:09:16Z  "
            ]
          },
          "metadata": {
            "tags": []
          },
          "execution_count": 12
        }
      ]
    },
    {
      "metadata": {
        "id": "Rfb-0_JTN8bA",
        "colab_type": "text"
      },
      "cell_type": "markdown",
      "source": [
        "Desplegar cada una de las celdas anidadas de la columna __bibjson__"
      ]
    },
    {
      "metadata": {
        "id": "UI2UlUNBK5hJ",
        "colab_type": "code",
        "outputId": "0e945534-18d0-478e-e6ba-ffeafbc1aa07",
        "colab": {
          "base_uri": "https://localhost:8080/",
          "height": 202
        }
      },
      "cell_type": "code",
      "source": [
        "pd.DataFrame(  p.loc['author','bibjson'] )"
      ],
      "execution_count": 0,
      "outputs": [
        {
          "output_type": "execute_result",
          "data": {
            "text/html": [
              "<div>\n",
              "<style scoped>\n",
              "    .dataframe tbody tr th:only-of-type {\n",
              "        vertical-align: middle;\n",
              "    }\n",
              "\n",
              "    .dataframe tbody tr th {\n",
              "        vertical-align: top;\n",
              "    }\n",
              "\n",
              "    .dataframe thead th {\n",
              "        text-align: right;\n",
              "    }\n",
              "</style>\n",
              "<table border=\"1\" class=\"dataframe\">\n",
              "  <thead>\n",
              "    <tr style=\"text-align: right;\">\n",
              "      <th></th>\n",
              "      <th>affiliation</th>\n",
              "      <th>name</th>\n",
              "    </tr>\n",
              "  </thead>\n",
              "  <tbody>\n",
              "    <tr>\n",
              "      <th>0</th>\n",
              "      <td>Physics Department, Universidad de los Andes, ...</td>\n",
              "      <td>Andrés Flórez</td>\n",
              "    </tr>\n",
              "    <tr>\n",
              "      <th>1</th>\n",
              "      <td>Department of Physics and Astronomy, Vanderbil...</td>\n",
              "      <td>Kaiwen Gui</td>\n",
              "    </tr>\n",
              "    <tr>\n",
              "      <th>2</th>\n",
              "      <td>Department of Physics and Astronomy, Vanderbil...</td>\n",
              "      <td>Alfredo Gurrola</td>\n",
              "    </tr>\n",
              "    <tr>\n",
              "      <th>3</th>\n",
              "      <td>Physics Department, Universidad de los Andes, ...</td>\n",
              "      <td>Carlos Patiño</td>\n",
              "    </tr>\n",
              "    <tr>\n",
              "      <th>4</th>\n",
              "      <td>Department of Physics, Universidad de Antioqui...</td>\n",
              "      <td>Diego Restrepo</td>\n",
              "    </tr>\n",
              "  </tbody>\n",
              "</table>\n",
              "</div>"
            ],
            "text/plain": [
              "                                         affiliation             name\n",
              "0  Physics Department, Universidad de los Andes, ...    Andrés Flórez\n",
              "1  Department of Physics and Astronomy, Vanderbil...       Kaiwen Gui\n",
              "2  Department of Physics and Astronomy, Vanderbil...  Alfredo Gurrola\n",
              "3  Physics Department, Universidad de los Andes, ...    Carlos Patiño\n",
              "4  Department of Physics, Universidad de Antioqui...   Diego Restrepo"
            ]
          },
          "metadata": {
            "tags": []
          },
          "execution_count": 18
        }
      ]
    },
    {
      "metadata": {
        "id": "JgUvVeR5KNNN",
        "colab_type": "code",
        "outputId": "b7c37bfd-cb6e-4da9-a9b1-607b0f71dd6f",
        "colab": {
          "base_uri": "https://localhost:8080/",
          "height": 141
        }
      },
      "cell_type": "code",
      "source": [
        "pd.DataFrame(  p.loc['identifier','bibjson'] )"
      ],
      "execution_count": 0,
      "outputs": [
        {
          "output_type": "execute_result",
          "data": {
            "text/html": [
              "<div>\n",
              "<style scoped>\n",
              "    .dataframe tbody tr th:only-of-type {\n",
              "        vertical-align: middle;\n",
              "    }\n",
              "\n",
              "    .dataframe tbody tr th {\n",
              "        vertical-align: top;\n",
              "    }\n",
              "\n",
              "    .dataframe thead th {\n",
              "        text-align: right;\n",
              "    }\n",
              "</style>\n",
              "<table border=\"1\" class=\"dataframe\">\n",
              "  <thead>\n",
              "    <tr style=\"text-align: right;\">\n",
              "      <th></th>\n",
              "      <th>id</th>\n",
              "      <th>type</th>\n",
              "    </tr>\n",
              "  </thead>\n",
              "  <tbody>\n",
              "    <tr>\n",
              "      <th>0</th>\n",
              "      <td>0370-2693</td>\n",
              "      <td>pissn</td>\n",
              "    </tr>\n",
              "    <tr>\n",
              "      <th>1</th>\n",
              "      <td>1873-2445</td>\n",
              "      <td>eissn</td>\n",
              "    </tr>\n",
              "    <tr>\n",
              "      <th>2</th>\n",
              "      <td>10.1016/j.physletb.2018.01.009</td>\n",
              "      <td>doi</td>\n",
              "    </tr>\n",
              "  </tbody>\n",
              "</table>\n",
              "</div>"
            ],
            "text/plain": [
              "                               id   type\n",
              "0                       0370-2693  pissn\n",
              "1                       1873-2445  eissn\n",
              "2  10.1016/j.physletb.2018.01.009    doi"
            ]
          },
          "metadata": {
            "tags": []
          },
          "execution_count": 19
        }
      ]
    },
    {
      "metadata": {
        "id": "EVHZfHm_Li8m",
        "colab_type": "code",
        "outputId": "7c3b511b-ef55-41de-b01b-9d3499472627",
        "colab": {
          "base_uri": "https://localhost:8080/",
          "height": 79
        }
      },
      "cell_type": "code",
      "source": [
        " pd.DataFrame( [p.loc['journal','bibjson'] ] )\n"
      ],
      "execution_count": 0,
      "outputs": [
        {
          "output_type": "execute_result",
          "data": {
            "text/html": [
              "<div>\n",
              "<style scoped>\n",
              "    .dataframe tbody tr th:only-of-type {\n",
              "        vertical-align: middle;\n",
              "    }\n",
              "\n",
              "    .dataframe tbody tr th {\n",
              "        vertical-align: top;\n",
              "    }\n",
              "\n",
              "    .dataframe thead th {\n",
              "        text-align: right;\n",
              "    }\n",
              "</style>\n",
              "<table border=\"1\" class=\"dataframe\">\n",
              "  <thead>\n",
              "    <tr style=\"text-align: right;\">\n",
              "      <th></th>\n",
              "      <th>country</th>\n",
              "      <th>issns</th>\n",
              "      <th>language</th>\n",
              "      <th>license</th>\n",
              "      <th>number</th>\n",
              "      <th>publisher</th>\n",
              "      <th>title</th>\n",
              "      <th>volume</th>\n",
              "    </tr>\n",
              "  </thead>\n",
              "  <tbody>\n",
              "    <tr>\n",
              "      <th>0</th>\n",
              "      <td>NL</td>\n",
              "      <td>[0370-2693, 1873-2445]</td>\n",
              "      <td>[EN]</td>\n",
              "      <td>[{u'url': u'http://www.elsevier.com/journals/p...</td>\n",
              "      <td>C</td>\n",
              "      <td>Elsevier</td>\n",
              "      <td>Physics Letters B</td>\n",
              "      <td>778</td>\n",
              "    </tr>\n",
              "  </tbody>\n",
              "</table>\n",
              "</div>"
            ],
            "text/plain": [
              "  country                   issns language  \\\n",
              "0      NL  [0370-2693, 1873-2445]     [EN]   \n",
              "\n",
              "                                             license number publisher  \\\n",
              "0  [{u'url': u'http://www.elsevier.com/journals/p...      C  Elsevier   \n",
              "\n",
              "               title volume  \n",
              "0  Physics Letters B    778  "
            ]
          },
          "metadata": {
            "tags": []
          },
          "execution_count": 24
        }
      ]
    },
    {
      "metadata": {
        "id": "tGvelHhSLq3B",
        "colab_type": "code",
        "outputId": "90d2232e-1140-4089-a285-2a3f274f7d87",
        "colab": {
          "base_uri": "https://localhost:8080/",
          "height": 79
        }
      },
      "cell_type": "code",
      "source": [
        "pd.DataFrame( p.loc['journal','bibjson']['license'] )"
      ],
      "execution_count": 0,
      "outputs": [
        {
          "output_type": "execute_result",
          "data": {
            "text/html": [
              "<div>\n",
              "<style scoped>\n",
              "    .dataframe tbody tr th:only-of-type {\n",
              "        vertical-align: middle;\n",
              "    }\n",
              "\n",
              "    .dataframe tbody tr th {\n",
              "        vertical-align: top;\n",
              "    }\n",
              "\n",
              "    .dataframe thead th {\n",
              "        text-align: right;\n",
              "    }\n",
              "</style>\n",
              "<table border=\"1\" class=\"dataframe\">\n",
              "  <thead>\n",
              "    <tr style=\"text-align: right;\">\n",
              "      <th></th>\n",
              "      <th>open_access</th>\n",
              "      <th>title</th>\n",
              "      <th>type</th>\n",
              "      <th>url</th>\n",
              "    </tr>\n",
              "  </thead>\n",
              "  <tbody>\n",
              "    <tr>\n",
              "      <th>0</th>\n",
              "      <td>True</td>\n",
              "      <td>CC BY</td>\n",
              "      <td>CC BY</td>\n",
              "      <td>http://www.elsevier.com/journals/physics-lette...</td>\n",
              "    </tr>\n",
              "  </tbody>\n",
              "</table>\n",
              "</div>"
            ],
            "text/plain": [
              "   open_access  title   type  \\\n",
              "0         True  CC BY  CC BY   \n",
              "\n",
              "                                                 url  \n",
              "0  http://www.elsevier.com/journals/physics-lette...  "
            ]
          },
          "metadata": {
            "tags": []
          },
          "execution_count": 25
        }
      ]
    },
    {
      "metadata": {
        "id": "KDV-pw1GMDTI",
        "colab_type": "code",
        "outputId": "df95adb1-d22f-4320-dd44-7ee3fb7f2c52",
        "colab": {
          "base_uri": "https://localhost:8080/",
          "height": 79
        }
      },
      "cell_type": "code",
      "source": [
        "pd.DataFrame(  p.loc['link','bibjson']  )"
      ],
      "execution_count": 0,
      "outputs": [
        {
          "output_type": "execute_result",
          "data": {
            "text/html": [
              "<div>\n",
              "<style scoped>\n",
              "    .dataframe tbody tr th:only-of-type {\n",
              "        vertical-align: middle;\n",
              "    }\n",
              "\n",
              "    .dataframe tbody tr th {\n",
              "        vertical-align: top;\n",
              "    }\n",
              "\n",
              "    .dataframe thead th {\n",
              "        text-align: right;\n",
              "    }\n",
              "</style>\n",
              "<table border=\"1\" class=\"dataframe\">\n",
              "  <thead>\n",
              "    <tr style=\"text-align: right;\">\n",
              "      <th></th>\n",
              "      <th>type</th>\n",
              "      <th>url</th>\n",
              "    </tr>\n",
              "  </thead>\n",
              "  <tbody>\n",
              "    <tr>\n",
              "      <th>0</th>\n",
              "      <td>fulltext</td>\n",
              "      <td>http://www.sciencedirect.com/science/article/p...</td>\n",
              "    </tr>\n",
              "  </tbody>\n",
              "</table>\n",
              "</div>"
            ],
            "text/plain": [
              "       type                                                url\n",
              "0  fulltext  http://www.sciencedirect.com/science/article/p..."
            ]
          },
          "metadata": {
            "tags": []
          },
          "execution_count": 28
        }
      ]
    },
    {
      "metadata": {
        "id": "NHez240DMkPM",
        "colab_type": "text"
      },
      "cell_type": "markdown",
      "source": [
        "# Dask"
      ]
    },
    {
      "metadata": {
        "id": "fIOwJDy7oe7c",
        "colab_type": "code",
        "colab": {}
      },
      "cell_type": "code",
      "source": [
        "! pip install dask cloudpickle > /dev/null"
      ],
      "execution_count": 0,
      "outputs": []
    },
    {
      "metadata": {
        "id": "KkGs9gRioh1S",
        "colab_type": "code",
        "outputId": "b9877d24-61e5-4afc-cd20-fc41c58ac045",
        "colab": {
          "base_uri": "https://localhost:8080/",
          "height": 34
        }
      },
      "cell_type": "code",
      "source": [
        "1+1"
      ],
      "execution_count": 0,
      "outputs": [
        {
          "output_type": "execute_result",
          "data": {
            "text/plain": [
              "2"
            ]
          },
          "metadata": {
            "tags": []
          },
          "execution_count": 3
        }
      ]
    },
    {
      "metadata": {
        "id": "AufPWJMKoxN_",
        "colab_type": "code",
        "colab": {}
      },
      "cell_type": "code",
      "source": [
        "import dask as dk"
      ],
      "execution_count": 0,
      "outputs": []
    },
    {
      "metadata": {
        "id": "_fc2bwH2pbcF",
        "colab_type": "code",
        "colab": {}
      },
      "cell_type": "code",
      "source": [
        "from dask import dataframe"
      ],
      "execution_count": 0,
      "outputs": []
    },
    {
      "metadata": {
        "id": "FVyiCQ8epvSo",
        "colab_type": "code",
        "outputId": "137f045f-cd00-4221-de63-9e35af43d391",
        "colab": {
          "base_uri": "https://localhost:8080/",
          "height": 34
        }
      },
      "cell_type": "code",
      "source": [
        "%%writefile kk.json\n",
        "{\"A\":1,\"B\":3}\n",
        "{\"A\":5,\"B\":6}"
      ],
      "execution_count": 0,
      "outputs": [
        {
          "output_type": "stream",
          "text": [
            "Writing kk.json\n"
          ],
          "name": "stdout"
        }
      ]
    },
    {
      "metadata": {
        "id": "6DJkDKB_qiO0",
        "colab_type": "code",
        "colab": {}
      },
      "cell_type": "code",
      "source": [
        "df=dataframe.read_json('kk.json')"
      ],
      "execution_count": 0,
      "outputs": []
    },
    {
      "metadata": {
        "id": "k-P9-oBnqnMo",
        "colab_type": "code",
        "outputId": "0521ec1c-148a-4912-c6a2-4125733db144",
        "colab": {
          "base_uri": "https://localhost:8080/",
          "height": 111
        }
      },
      "cell_type": "code",
      "source": [
        "df.compute()"
      ],
      "execution_count": 0,
      "outputs": [
        {
          "output_type": "execute_result",
          "data": {
            "text/html": [
              "<div>\n",
              "<style scoped>\n",
              "    .dataframe tbody tr th:only-of-type {\n",
              "        vertical-align: middle;\n",
              "    }\n",
              "\n",
              "    .dataframe tbody tr th {\n",
              "        vertical-align: top;\n",
              "    }\n",
              "\n",
              "    .dataframe thead th {\n",
              "        text-align: right;\n",
              "    }\n",
              "</style>\n",
              "<table border=\"1\" class=\"dataframe\">\n",
              "  <thead>\n",
              "    <tr style=\"text-align: right;\">\n",
              "      <th></th>\n",
              "      <th>A</th>\n",
              "      <th>B</th>\n",
              "    </tr>\n",
              "  </thead>\n",
              "  <tbody>\n",
              "    <tr>\n",
              "      <th>0</th>\n",
              "      <td>1</td>\n",
              "      <td>3</td>\n",
              "    </tr>\n",
              "    <tr>\n",
              "      <th>1</th>\n",
              "      <td>5</td>\n",
              "      <td>6</td>\n",
              "    </tr>\n",
              "  </tbody>\n",
              "</table>\n",
              "</div>"
            ],
            "text/plain": [
              "   A  B\n",
              "0  1  3\n",
              "1  5  6"
            ]
          },
          "metadata": {
            "tags": []
          },
          "execution_count": 38
        }
      ]
    },
    {
      "metadata": {
        "id": "_LI1JvUnw_Sx",
        "colab_type": "code",
        "colab": {}
      },
      "cell_type": "code",
      "source": [
        "import pandas as pd"
      ],
      "execution_count": 0,
      "outputs": []
    },
    {
      "metadata": {
        "id": "m20r-oeXxA7j",
        "colab_type": "code",
        "outputId": "e78cf704-b1f8-4bad-8c44-24cb0cbb5ca9",
        "colab": {
          "base_uri": "https://localhost:8080/",
          "height": 111
        }
      },
      "cell_type": "code",
      "source": [
        "pd.read_json('kk.json',orient='records',lines=True)"
      ],
      "execution_count": 0,
      "outputs": [
        {
          "output_type": "execute_result",
          "data": {
            "text/html": [
              "<div>\n",
              "<style scoped>\n",
              "    .dataframe tbody tr th:only-of-type {\n",
              "        vertical-align: middle;\n",
              "    }\n",
              "\n",
              "    .dataframe tbody tr th {\n",
              "        vertical-align: top;\n",
              "    }\n",
              "\n",
              "    .dataframe thead th {\n",
              "        text-align: right;\n",
              "    }\n",
              "</style>\n",
              "<table border=\"1\" class=\"dataframe\">\n",
              "  <thead>\n",
              "    <tr style=\"text-align: right;\">\n",
              "      <th></th>\n",
              "      <th>A</th>\n",
              "      <th>B</th>\n",
              "    </tr>\n",
              "  </thead>\n",
              "  <tbody>\n",
              "    <tr>\n",
              "      <th>0</th>\n",
              "      <td>1</td>\n",
              "      <td>3</td>\n",
              "    </tr>\n",
              "    <tr>\n",
              "      <th>1</th>\n",
              "      <td>5</td>\n",
              "      <td>6</td>\n",
              "    </tr>\n",
              "  </tbody>\n",
              "</table>\n",
              "</div>"
            ],
            "text/plain": [
              "   A  B\n",
              "0  1  3\n",
              "1  5  6"
            ]
          },
          "metadata": {
            "tags": []
          },
          "execution_count": 40
        }
      ]
    },
    {
      "metadata": {
        "id": "xjKxOIpWqsha",
        "colab_type": "code",
        "colab": {}
      },
      "cell_type": "code",
      "source": [
        "import os\n",
        "os.chdir('drive/My Drive/Colab Notebooks/Data')"
      ],
      "execution_count": 0,
      "outputs": []
    },
    {
      "metadata": {
        "id": "43FmC3KvrvQO",
        "colab_type": "code",
        "colab": {}
      },
      "cell_type": "code",
      "source": [
        "!head -n10 oagreenarticle.json > tmp.json"
      ],
      "execution_count": 0,
      "outputs": []
    },
    {
      "metadata": {
        "id": "3xUzGK6zvnxw",
        "colab_type": "code",
        "colab": {}
      },
      "cell_type": "code",
      "source": [
        "import pandas as pd"
      ],
      "execution_count": 0,
      "outputs": []
    },
    {
      "metadata": {
        "id": "edNUetghvp3T",
        "colab_type": "code",
        "outputId": "ed013439-456a-4a53-e08e-0814545f96f3",
        "colab": {
          "base_uri": "https://localhost:8080/",
          "height": 383
        }
      },
      "cell_type": "code",
      "source": [
        "pd.read_json('tmp.json',orient='records',lines=True)[:3]"
      ],
      "execution_count": 0,
      "outputs": [
        {
          "output_type": "execute_result",
          "data": {
            "text/html": [
              "<div>\n",
              "<style scoped>\n",
              "    .dataframe tbody tr th:only-of-type {\n",
              "        vertical-align: middle;\n",
              "    }\n",
              "\n",
              "    .dataframe tbody tr th {\n",
              "        vertical-align: top;\n",
              "    }\n",
              "\n",
              "    .dataframe thead th {\n",
              "        text-align: right;\n",
              "    }\n",
              "</style>\n",
              "<table border=\"1\" class=\"dataframe\">\n",
              "  <thead>\n",
              "    <tr style=\"text-align: right;\">\n",
              "      <th></th>\n",
              "      <th>best_oa_location</th>\n",
              "      <th>data_standard</th>\n",
              "      <th>doi</th>\n",
              "      <th>doi_url</th>\n",
              "      <th>genre</th>\n",
              "      <th>is_oa</th>\n",
              "      <th>journal_is_in_doaj</th>\n",
              "      <th>journal_is_oa</th>\n",
              "      <th>journal_issns</th>\n",
              "      <th>journal_name</th>\n",
              "      <th>oa_locations</th>\n",
              "      <th>published_date</th>\n",
              "      <th>publisher</th>\n",
              "      <th>title</th>\n",
              "      <th>updated</th>\n",
              "      <th>year</th>\n",
              "      <th>z_authors</th>\n",
              "    </tr>\n",
              "  </thead>\n",
              "  <tbody>\n",
              "    <tr>\n",
              "      <th>0</th>\n",
              "      <td>{'url': 'https://doi.org/10.1016/j.ahj.2015.02...</td>\n",
              "      <td>2</td>\n",
              "      <td>10.1016/j.ahj.2015.02.019</td>\n",
              "      <td>https://doi.org/10.1016/j.ahj.2015.02.019</td>\n",
              "      <td>journal-article</td>\n",
              "      <td>True</td>\n",
              "      <td>False</td>\n",
              "      <td>False</td>\n",
              "      <td>0002-8703</td>\n",
              "      <td>American Heart Journal</td>\n",
              "      <td>[{'url': 'https://doi.org/10.1016/j.ahj.2015.0...</td>\n",
              "      <td>2015-06-01</td>\n",
              "      <td>Elsevier BV</td>\n",
              "      <td>Biomarkers for risk stratification of patients...</td>\n",
              "      <td>2018-06-18T19:10:12.692979</td>\n",
              "      <td>2015.0</td>\n",
              "      <td>[{'given': 'Matthijs A.', 'family': 'Velders'}...</td>\n",
              "    </tr>\n",
              "    <tr>\n",
              "      <th>1</th>\n",
              "      <td>{'url': 'https://doi.org/10.1021/acsnano.7b049...</td>\n",
              "      <td>2</td>\n",
              "      <td>10.1021/acsnano.7b04994</td>\n",
              "      <td>https://doi.org/10.1021/acsnano.7b04994</td>\n",
              "      <td>journal-article</td>\n",
              "      <td>True</td>\n",
              "      <td>False</td>\n",
              "      <td>False</td>\n",
              "      <td>1936-0851,1936-086X</td>\n",
              "      <td>ACS Nano</td>\n",
              "      <td>[{'url': 'https://doi.org/10.1021/acsnano.7b04...</td>\n",
              "      <td>2017-09-08</td>\n",
              "      <td>American Chemical Society (ACS)</td>\n",
              "      <td>Hybrid Surface Patterns Mimicking the Design o...</td>\n",
              "      <td>2018-06-14T11:39:08.680219</td>\n",
              "      <td>2017.0</td>\n",
              "      <td>[{'ORCID': 'http://orcid.org/0000-0001-5512-74...</td>\n",
              "    </tr>\n",
              "    <tr>\n",
              "      <th>2</th>\n",
              "      <td>{'url': 'https://doi.org/10.1016/s0925-4773(00...</td>\n",
              "      <td>2</td>\n",
              "      <td>10.1016/s0925-4773(00)00472-x</td>\n",
              "      <td>https://doi.org/10.1016/s0925-4773(00)00472-x</td>\n",
              "      <td>journal-article</td>\n",
              "      <td>True</td>\n",
              "      <td>False</td>\n",
              "      <td>False</td>\n",
              "      <td>0925-4773</td>\n",
              "      <td>Mechanisms of Development</td>\n",
              "      <td>[{'url': 'https://doi.org/10.1016/s0925-4773(0...</td>\n",
              "      <td>2000-12-01</td>\n",
              "      <td>Elsevier BV</td>\n",
              "      <td>Embryonic expression of a P2X 3 receptor encod...</td>\n",
              "      <td>2018-06-18T04:15:29.411710</td>\n",
              "      <td>2000.0</td>\n",
              "      <td>[{'given': 'William H.J', 'family': 'Norton'},...</td>\n",
              "    </tr>\n",
              "  </tbody>\n",
              "</table>\n",
              "</div>"
            ],
            "text/plain": [
              "                                    best_oa_location  data_standard  \\\n",
              "0  {'url': 'https://doi.org/10.1016/j.ahj.2015.02...              2   \n",
              "1  {'url': 'https://doi.org/10.1021/acsnano.7b049...              2   \n",
              "2  {'url': 'https://doi.org/10.1016/s0925-4773(00...              2   \n",
              "\n",
              "                             doi  \\\n",
              "0      10.1016/j.ahj.2015.02.019   \n",
              "1        10.1021/acsnano.7b04994   \n",
              "2  10.1016/s0925-4773(00)00472-x   \n",
              "\n",
              "                                         doi_url            genre  is_oa  \\\n",
              "0      https://doi.org/10.1016/j.ahj.2015.02.019  journal-article   True   \n",
              "1        https://doi.org/10.1021/acsnano.7b04994  journal-article   True   \n",
              "2  https://doi.org/10.1016/s0925-4773(00)00472-x  journal-article   True   \n",
              "\n",
              "   journal_is_in_doaj  journal_is_oa        journal_issns  \\\n",
              "0               False          False            0002-8703   \n",
              "1               False          False  1936-0851,1936-086X   \n",
              "2               False          False            0925-4773   \n",
              "\n",
              "                journal_name  \\\n",
              "0     American Heart Journal   \n",
              "1                   ACS Nano   \n",
              "2  Mechanisms of Development   \n",
              "\n",
              "                                        oa_locations published_date  \\\n",
              "0  [{'url': 'https://doi.org/10.1016/j.ahj.2015.0...     2015-06-01   \n",
              "1  [{'url': 'https://doi.org/10.1021/acsnano.7b04...     2017-09-08   \n",
              "2  [{'url': 'https://doi.org/10.1016/s0925-4773(0...     2000-12-01   \n",
              "\n",
              "                         publisher  \\\n",
              "0                      Elsevier BV   \n",
              "1  American Chemical Society (ACS)   \n",
              "2                      Elsevier BV   \n",
              "\n",
              "                                               title  \\\n",
              "0  Biomarkers for risk stratification of patients...   \n",
              "1  Hybrid Surface Patterns Mimicking the Design o...   \n",
              "2  Embryonic expression of a P2X 3 receptor encod...   \n",
              "\n",
              "                      updated    year  \\\n",
              "0  2018-06-18T19:10:12.692979  2015.0   \n",
              "1  2018-06-14T11:39:08.680219  2017.0   \n",
              "2  2018-06-18T04:15:29.411710  2000.0   \n",
              "\n",
              "                                           z_authors  \n",
              "0  [{'given': 'Matthijs A.', 'family': 'Velders'}...  \n",
              "1  [{'ORCID': 'http://orcid.org/0000-0001-5512-74...  \n",
              "2  [{'given': 'William H.J', 'family': 'Norton'},...  "
            ]
          },
          "metadata": {
            "tags": []
          },
          "execution_count": 33
        }
      ]
    },
    {
      "metadata": {
        "colab_type": "code",
        "id": "jzSqZPBBt90M",
        "colab": {}
      },
      "cell_type": "code",
      "source": [
        "tmp=dataframe.read_json('tmp.json')"
      ],
      "execution_count": 0,
      "outputs": []
    },
    {
      "metadata": {
        "id": "eh4V8Llbr47Z",
        "colab_type": "code",
        "outputId": "e0375e1d-3f2a-4954-db33-331537025f1e",
        "colab": {
          "base_uri": "https://localhost:8080/",
          "height": 940
        }
      },
      "cell_type": "code",
      "source": [
        "tmp.compute()"
      ],
      "execution_count": 0,
      "outputs": [
        {
          "output_type": "execute_result",
          "data": {
            "text/html": [
              "<div>\n",
              "<style scoped>\n",
              "    .dataframe tbody tr th:only-of-type {\n",
              "        vertical-align: middle;\n",
              "    }\n",
              "\n",
              "    .dataframe tbody tr th {\n",
              "        vertical-align: top;\n",
              "    }\n",
              "\n",
              "    .dataframe thead th {\n",
              "        text-align: right;\n",
              "    }\n",
              "</style>\n",
              "<table border=\"1\" class=\"dataframe\">\n",
              "  <thead>\n",
              "    <tr style=\"text-align: right;\">\n",
              "      <th></th>\n",
              "      <th>best_oa_location</th>\n",
              "      <th>data_standard</th>\n",
              "      <th>doi</th>\n",
              "      <th>doi_url</th>\n",
              "      <th>genre</th>\n",
              "      <th>is_oa</th>\n",
              "      <th>journal_is_in_doaj</th>\n",
              "      <th>journal_is_oa</th>\n",
              "      <th>journal_issns</th>\n",
              "      <th>journal_name</th>\n",
              "      <th>oa_locations</th>\n",
              "      <th>published_date</th>\n",
              "      <th>publisher</th>\n",
              "      <th>title</th>\n",
              "      <th>updated</th>\n",
              "      <th>year</th>\n",
              "      <th>z_authors</th>\n",
              "    </tr>\n",
              "  </thead>\n",
              "  <tbody>\n",
              "    <tr>\n",
              "      <th>0</th>\n",
              "      <td>{'url': 'https://doi.org/10.1016/j.ahj.2015.02...</td>\n",
              "      <td>2</td>\n",
              "      <td>10.1016/j.ahj.2015.02.019</td>\n",
              "      <td>https://doi.org/10.1016/j.ahj.2015.02.019</td>\n",
              "      <td>journal-article</td>\n",
              "      <td>True</td>\n",
              "      <td>False</td>\n",
              "      <td>False</td>\n",
              "      <td>0002-8703</td>\n",
              "      <td>American Heart Journal</td>\n",
              "      <td>[{'url': 'https://doi.org/10.1016/j.ahj.2015.0...</td>\n",
              "      <td>2015-06-01</td>\n",
              "      <td>Elsevier BV</td>\n",
              "      <td>Biomarkers for risk stratification of patients...</td>\n",
              "      <td>2018-06-18T19:10:12.692979</td>\n",
              "      <td>2015.0</td>\n",
              "      <td>[{'given': 'Matthijs A.', 'family': 'Velders'}...</td>\n",
              "    </tr>\n",
              "    <tr>\n",
              "      <th>1</th>\n",
              "      <td>{'url': 'https://doi.org/10.1021/acsnano.7b049...</td>\n",
              "      <td>2</td>\n",
              "      <td>10.1021/acsnano.7b04994</td>\n",
              "      <td>https://doi.org/10.1021/acsnano.7b04994</td>\n",
              "      <td>journal-article</td>\n",
              "      <td>True</td>\n",
              "      <td>False</td>\n",
              "      <td>False</td>\n",
              "      <td>1936-0851,1936-086X</td>\n",
              "      <td>ACS Nano</td>\n",
              "      <td>[{'url': 'https://doi.org/10.1021/acsnano.7b04...</td>\n",
              "      <td>2017-09-08</td>\n",
              "      <td>American Chemical Society (ACS)</td>\n",
              "      <td>Hybrid Surface Patterns Mimicking the Design o...</td>\n",
              "      <td>2018-06-14T11:39:08.680219</td>\n",
              "      <td>2017.0</td>\n",
              "      <td>[{'ORCID': 'http://orcid.org/0000-0001-5512-74...</td>\n",
              "    </tr>\n",
              "    <tr>\n",
              "      <th>2</th>\n",
              "      <td>{'url': 'https://doi.org/10.1016/s0925-4773(00...</td>\n",
              "      <td>2</td>\n",
              "      <td>10.1016/s0925-4773(00)00472-x</td>\n",
              "      <td>https://doi.org/10.1016/s0925-4773(00)00472-x</td>\n",
              "      <td>journal-article</td>\n",
              "      <td>True</td>\n",
              "      <td>False</td>\n",
              "      <td>False</td>\n",
              "      <td>0925-4773</td>\n",
              "      <td>Mechanisms of Development</td>\n",
              "      <td>[{'url': 'https://doi.org/10.1016/s0925-4773(0...</td>\n",
              "      <td>2000-12-01</td>\n",
              "      <td>Elsevier BV</td>\n",
              "      <td>Embryonic expression of a P2X 3 receptor encod...</td>\n",
              "      <td>2018-06-18T04:15:29.411710</td>\n",
              "      <td>2000.0</td>\n",
              "      <td>[{'given': 'William H.J', 'family': 'Norton'},...</td>\n",
              "    </tr>\n",
              "    <tr>\n",
              "      <th>3</th>\n",
              "      <td>{'url': 'https://doi.org/10.1016/0021-8693(88)...</td>\n",
              "      <td>1</td>\n",
              "      <td>10.1016/0021-8693(88)90058-0</td>\n",
              "      <td>https://doi.org/10.1016/0021-8693(88)90058-0</td>\n",
              "      <td>journal-article</td>\n",
              "      <td>True</td>\n",
              "      <td>False</td>\n",
              "      <td>False</td>\n",
              "      <td>0021-8693</td>\n",
              "      <td>Journal of Algebra</td>\n",
              "      <td>[{'url': 'https://doi.org/10.1016/0021-8693(88...</td>\n",
              "      <td>1988-10-01</td>\n",
              "      <td>Elsevier BV</td>\n",
              "      <td>Corrigendum</td>\n",
              "      <td>2018-06-18T04:18:43.222135</td>\n",
              "      <td>1988.0</td>\n",
              "      <td>None</td>\n",
              "    </tr>\n",
              "    <tr>\n",
              "      <th>4</th>\n",
              "      <td>{'url': 'https://doi.org/10.1016/j.mod.2006.03...</td>\n",
              "      <td>2</td>\n",
              "      <td>10.1016/j.mod.2006.03.003</td>\n",
              "      <td>https://doi.org/10.1016/j.mod.2006.03.003</td>\n",
              "      <td>journal-article</td>\n",
              "      <td>True</td>\n",
              "      <td>False</td>\n",
              "      <td>False</td>\n",
              "      <td>0925-4773</td>\n",
              "      <td>Mechanisms of Development</td>\n",
              "      <td>[{'url': 'https://doi.org/10.1016/j.mod.2006.0...</td>\n",
              "      <td>2006-05-01</td>\n",
              "      <td>Elsevier BV</td>\n",
              "      <td>Impaired development of the Harderian gland in...</td>\n",
              "      <td>2018-06-18T04:20:45.498171</td>\n",
              "      <td>2006.0</td>\n",
              "      <td>[{'given': 'Andreas', 'family': 'Schild'}, {'g...</td>\n",
              "    </tr>\n",
              "    <tr>\n",
              "      <th>5</th>\n",
              "      <td>{'url': 'https://doi.org/10.1103/physrevc.96.0...</td>\n",
              "      <td>2</td>\n",
              "      <td>10.1103/physrevc.96.014310</td>\n",
              "      <td>https://doi.org/10.1103/physrevc.96.014310</td>\n",
              "      <td>journal-article</td>\n",
              "      <td>True</td>\n",
              "      <td>False</td>\n",
              "      <td>False</td>\n",
              "      <td>2469-9985,2469-9993</td>\n",
              "      <td>Physical Review C</td>\n",
              "      <td>[{'url': 'https://doi.org/10.1103/physrevc.96....</td>\n",
              "      <td>2017-07-14</td>\n",
              "      <td>American Physical Society (APS)</td>\n",
              "      <td>Nuclear deformation in the A≈100 region: Compa...</td>\n",
              "      <td>2018-06-16T19:57:39.403083</td>\n",
              "      <td>2017.0</td>\n",
              "      <td>[{'given': 'A.', 'family': 'de Roubin'}, {'giv...</td>\n",
              "    </tr>\n",
              "    <tr>\n",
              "      <th>6</th>\n",
              "      <td>{'url': 'https://doi.org/10.1016/s0960-9822(07...</td>\n",
              "      <td>2</td>\n",
              "      <td>10.1016/s0960-9822(07)00493-9</td>\n",
              "      <td>https://doi.org/10.1016/s0960-9822(07)00493-9</td>\n",
              "      <td>journal-article</td>\n",
              "      <td>True</td>\n",
              "      <td>False</td>\n",
              "      <td>False</td>\n",
              "      <td>0960-9822</td>\n",
              "      <td>Current Biology</td>\n",
              "      <td>[{'url': 'https://doi.org/10.1016/s0960-9822(0...</td>\n",
              "      <td>1998-10-01</td>\n",
              "      <td>Elsevier BV</td>\n",
              "      <td>Protein kinase B (PKB/Akt) activity is elevate...</td>\n",
              "      <td>2018-06-18T04:21:43.465040</td>\n",
              "      <td>1998.0</td>\n",
              "      <td>[{'given': 'Daphne', 'family': 'Haas-Kogan'}, ...</td>\n",
              "    </tr>\n",
              "    <tr>\n",
              "      <th>7</th>\n",
              "      <td>{'url': 'https://doi.org/10.1016/s1470-2045(13...</td>\n",
              "      <td>2</td>\n",
              "      <td>10.1016/s1470-2045(13)70163-3</td>\n",
              "      <td>https://doi.org/10.1016/s1470-2045(13)70163-3</td>\n",
              "      <td>journal-article</td>\n",
              "      <td>True</td>\n",
              "      <td>False</td>\n",
              "      <td>False</td>\n",
              "      <td>1470-2045</td>\n",
              "      <td>The Lancet Oncology</td>\n",
              "      <td>[{'url': 'https://doi.org/10.1016/s1470-2045(1...</td>\n",
              "      <td>2013-07-01</td>\n",
              "      <td>Elsevier BV</td>\n",
              "      <td>Panitumumab and irinotecan versus irinotecan a...</td>\n",
              "      <td>2018-06-18T19:11:38.984437</td>\n",
              "      <td>2013.0</td>\n",
              "      <td>[{'given': 'Matthew T', 'family': 'Seymour'}, ...</td>\n",
              "    </tr>\n",
              "    <tr>\n",
              "      <th>8</th>\n",
              "      <td>{'url': 'https://doi.org/10.24159/joec.2014.20...</td>\n",
              "      <td>2</td>\n",
              "      <td>10.24159/joec.2014.20.4.281</td>\n",
              "      <td>https://doi.org/10.24159/joec.2014.20.4.281</td>\n",
              "      <td>journal-article</td>\n",
              "      <td>True</td>\n",
              "      <td>False</td>\n",
              "      <td>False</td>\n",
              "      <td>1598-9283</td>\n",
              "      <td>Journal of Education &amp; Culture</td>\n",
              "      <td>[{'url': 'https://doi.org/10.24159/joec.2014.2...</td>\n",
              "      <td>2014-12-01</td>\n",
              "      <td>Education Research Institute</td>\n",
              "      <td>The Research on the Values and Lifestyles of K...</td>\n",
              "      <td>2018-06-18T05:26:34.731357</td>\n",
              "      <td>2014.0</td>\n",
              "      <td>[{'family': 'Kim,Heung-Kyu'}, {'family': '이상란'}]</td>\n",
              "    </tr>\n",
              "    <tr>\n",
              "      <th>9</th>\n",
              "      <td>{'url': 'https://doi.org/10.5194/acp-2016-560-...</td>\n",
              "      <td>2</td>\n",
              "      <td>10.5194/acp-2016-560-ac1</td>\n",
              "      <td>https://doi.org/10.5194/acp-2016-560-ac1</td>\n",
              "      <td>component</td>\n",
              "      <td>True</td>\n",
              "      <td>False</td>\n",
              "      <td>False</td>\n",
              "      <td>None</td>\n",
              "      <td>None</td>\n",
              "      <td>[{'url': 'https://doi.org/10.5194/acp-2016-560...</td>\n",
              "      <td>None</td>\n",
              "      <td>Copernicus GmbH</td>\n",
              "      <td>None</td>\n",
              "      <td>2018-06-15T17:12:08.805398</td>\n",
              "      <td>NaN</td>\n",
              "      <td>None</td>\n",
              "    </tr>\n",
              "  </tbody>\n",
              "</table>\n",
              "</div>"
            ],
            "text/plain": [
              "                                    best_oa_location  data_standard  \\\n",
              "0  {'url': 'https://doi.org/10.1016/j.ahj.2015.02...              2   \n",
              "1  {'url': 'https://doi.org/10.1021/acsnano.7b049...              2   \n",
              "2  {'url': 'https://doi.org/10.1016/s0925-4773(00...              2   \n",
              "3  {'url': 'https://doi.org/10.1016/0021-8693(88)...              1   \n",
              "4  {'url': 'https://doi.org/10.1016/j.mod.2006.03...              2   \n",
              "5  {'url': 'https://doi.org/10.1103/physrevc.96.0...              2   \n",
              "6  {'url': 'https://doi.org/10.1016/s0960-9822(07...              2   \n",
              "7  {'url': 'https://doi.org/10.1016/s1470-2045(13...              2   \n",
              "8  {'url': 'https://doi.org/10.24159/joec.2014.20...              2   \n",
              "9  {'url': 'https://doi.org/10.5194/acp-2016-560-...              2   \n",
              "\n",
              "                             doi  \\\n",
              "0      10.1016/j.ahj.2015.02.019   \n",
              "1        10.1021/acsnano.7b04994   \n",
              "2  10.1016/s0925-4773(00)00472-x   \n",
              "3   10.1016/0021-8693(88)90058-0   \n",
              "4      10.1016/j.mod.2006.03.003   \n",
              "5     10.1103/physrevc.96.014310   \n",
              "6  10.1016/s0960-9822(07)00493-9   \n",
              "7  10.1016/s1470-2045(13)70163-3   \n",
              "8    10.24159/joec.2014.20.4.281   \n",
              "9       10.5194/acp-2016-560-ac1   \n",
              "\n",
              "                                         doi_url            genre  is_oa  \\\n",
              "0      https://doi.org/10.1016/j.ahj.2015.02.019  journal-article   True   \n",
              "1        https://doi.org/10.1021/acsnano.7b04994  journal-article   True   \n",
              "2  https://doi.org/10.1016/s0925-4773(00)00472-x  journal-article   True   \n",
              "3   https://doi.org/10.1016/0021-8693(88)90058-0  journal-article   True   \n",
              "4      https://doi.org/10.1016/j.mod.2006.03.003  journal-article   True   \n",
              "5     https://doi.org/10.1103/physrevc.96.014310  journal-article   True   \n",
              "6  https://doi.org/10.1016/s0960-9822(07)00493-9  journal-article   True   \n",
              "7  https://doi.org/10.1016/s1470-2045(13)70163-3  journal-article   True   \n",
              "8    https://doi.org/10.24159/joec.2014.20.4.281  journal-article   True   \n",
              "9       https://doi.org/10.5194/acp-2016-560-ac1        component   True   \n",
              "\n",
              "   journal_is_in_doaj  journal_is_oa        journal_issns  \\\n",
              "0               False          False            0002-8703   \n",
              "1               False          False  1936-0851,1936-086X   \n",
              "2               False          False            0925-4773   \n",
              "3               False          False            0021-8693   \n",
              "4               False          False            0925-4773   \n",
              "5               False          False  2469-9985,2469-9993   \n",
              "6               False          False            0960-9822   \n",
              "7               False          False            1470-2045   \n",
              "8               False          False            1598-9283   \n",
              "9               False          False                 None   \n",
              "\n",
              "                     journal_name  \\\n",
              "0          American Heart Journal   \n",
              "1                        ACS Nano   \n",
              "2       Mechanisms of Development   \n",
              "3              Journal of Algebra   \n",
              "4       Mechanisms of Development   \n",
              "5               Physical Review C   \n",
              "6                 Current Biology   \n",
              "7             The Lancet Oncology   \n",
              "8  Journal of Education & Culture   \n",
              "9                            None   \n",
              "\n",
              "                                        oa_locations published_date  \\\n",
              "0  [{'url': 'https://doi.org/10.1016/j.ahj.2015.0...     2015-06-01   \n",
              "1  [{'url': 'https://doi.org/10.1021/acsnano.7b04...     2017-09-08   \n",
              "2  [{'url': 'https://doi.org/10.1016/s0925-4773(0...     2000-12-01   \n",
              "3  [{'url': 'https://doi.org/10.1016/0021-8693(88...     1988-10-01   \n",
              "4  [{'url': 'https://doi.org/10.1016/j.mod.2006.0...     2006-05-01   \n",
              "5  [{'url': 'https://doi.org/10.1103/physrevc.96....     2017-07-14   \n",
              "6  [{'url': 'https://doi.org/10.1016/s0960-9822(0...     1998-10-01   \n",
              "7  [{'url': 'https://doi.org/10.1016/s1470-2045(1...     2013-07-01   \n",
              "8  [{'url': 'https://doi.org/10.24159/joec.2014.2...     2014-12-01   \n",
              "9  [{'url': 'https://doi.org/10.5194/acp-2016-560...           None   \n",
              "\n",
              "                         publisher  \\\n",
              "0                      Elsevier BV   \n",
              "1  American Chemical Society (ACS)   \n",
              "2                      Elsevier BV   \n",
              "3                      Elsevier BV   \n",
              "4                      Elsevier BV   \n",
              "5  American Physical Society (APS)   \n",
              "6                      Elsevier BV   \n",
              "7                      Elsevier BV   \n",
              "8     Education Research Institute   \n",
              "9                  Copernicus GmbH   \n",
              "\n",
              "                                               title  \\\n",
              "0  Biomarkers for risk stratification of patients...   \n",
              "1  Hybrid Surface Patterns Mimicking the Design o...   \n",
              "2  Embryonic expression of a P2X 3 receptor encod...   \n",
              "3                                        Corrigendum   \n",
              "4  Impaired development of the Harderian gland in...   \n",
              "5  Nuclear deformation in the A≈100 region: Compa...   \n",
              "6  Protein kinase B (PKB/Akt) activity is elevate...   \n",
              "7  Panitumumab and irinotecan versus irinotecan a...   \n",
              "8  The Research on the Values and Lifestyles of K...   \n",
              "9                                               None   \n",
              "\n",
              "                      updated    year  \\\n",
              "0  2018-06-18T19:10:12.692979  2015.0   \n",
              "1  2018-06-14T11:39:08.680219  2017.0   \n",
              "2  2018-06-18T04:15:29.411710  2000.0   \n",
              "3  2018-06-18T04:18:43.222135  1988.0   \n",
              "4  2018-06-18T04:20:45.498171  2006.0   \n",
              "5  2018-06-16T19:57:39.403083  2017.0   \n",
              "6  2018-06-18T04:21:43.465040  1998.0   \n",
              "7  2018-06-18T19:11:38.984437  2013.0   \n",
              "8  2018-06-18T05:26:34.731357  2014.0   \n",
              "9  2018-06-15T17:12:08.805398     NaN   \n",
              "\n",
              "                                           z_authors  \n",
              "0  [{'given': 'Matthijs A.', 'family': 'Velders'}...  \n",
              "1  [{'ORCID': 'http://orcid.org/0000-0001-5512-74...  \n",
              "2  [{'given': 'William H.J', 'family': 'Norton'},...  \n",
              "3                                               None  \n",
              "4  [{'given': 'Andreas', 'family': 'Schild'}, {'g...  \n",
              "5  [{'given': 'A.', 'family': 'de Roubin'}, {'giv...  \n",
              "6  [{'given': 'Daphne', 'family': 'Haas-Kogan'}, ...  \n",
              "7  [{'given': 'Matthew T', 'family': 'Seymour'}, ...  \n",
              "8   [{'family': 'Kim,Heung-Kyu'}, {'family': '이상란'}]  \n",
              "9                                               None  "
            ]
          },
          "metadata": {
            "tags": []
          },
          "execution_count": 8
        }
      ]
    },
    {
      "metadata": {
        "id": "RsF2qRysvP5i",
        "colab_type": "code",
        "colab": {}
      },
      "cell_type": "code",
      "source": [
        "dataframe.read_json?"
      ],
      "execution_count": 0,
      "outputs": []
    },
    {
      "metadata": {
        "id": "GRPZexpysRCi",
        "colab_type": "code",
        "colab": {}
      },
      "cell_type": "code",
      "source": [
        "df=dataframe.read_json('oagreenarticle.json')"
      ],
      "execution_count": 0,
      "outputs": []
    },
    {
      "metadata": {
        "id": "FlXODpnFsehq",
        "colab_type": "code",
        "outputId": "8b3bd6e4-6895-4ea9-f452-dff3cb8fa707",
        "colab": {
          "base_uri": "https://localhost:8080/",
          "height": 163
        }
      },
      "cell_type": "code",
      "source": [
        ""
      ],
      "execution_count": 0,
      "outputs": [
        {
          "output_type": "error",
          "ename": "NameError",
          "evalue": "ignored",
          "traceback": [
            "\u001b[0;31m---------------------------------------------------------------------------\u001b[0m",
            "\u001b[0;31mNameError\u001b[0m                                 Traceback (most recent call last)",
            "\u001b[0;32m<ipython-input-1-633337079cd0>\u001b[0m in \u001b[0;36m<module>\u001b[0;34m()\u001b[0m\n\u001b[0;32m----> 1\u001b[0;31m \u001b[0mdf\u001b[0m\u001b[0;34m.\u001b[0m\u001b[0mshape\u001b[0m\u001b[0;34m\u001b[0m\u001b[0m\n\u001b[0m",
            "\u001b[0;31mNameError\u001b[0m: name 'df' is not defined"
          ]
        }
      ]
    },
    {
      "metadata": {
        "id": "vQnhDsxTs7Nz",
        "colab_type": "code",
        "colab": {}
      },
      "cell_type": "code",
      "source": [
        ""
      ],
      "execution_count": 0,
      "outputs": []
    },
    {
      "metadata": {
        "id": "lFd1K18vuCuO",
        "colab_type": "code",
        "colab": {}
      },
      "cell_type": "code",
      "source": [
        "import dask.bag as db"
      ],
      "execution_count": 0,
      "outputs": []
    },
    {
      "metadata": {
        "id": "I6Ln-G39uPqp",
        "colab_type": "code",
        "colab": {}
      },
      "cell_type": "code",
      "source": [
        "import json\n",
        "b = db.read_text('tmp.json').map(json.loads)"
      ],
      "execution_count": 0,
      "outputs": []
    },
    {
      "metadata": {
        "id": "YHZJiXo8uUzb",
        "colab_type": "code",
        "colab": {}
      },
      "cell_type": "code",
      "source": [
        "bb=b.to_dataframe()"
      ],
      "execution_count": 0,
      "outputs": []
    },
    {
      "metadata": {
        "id": "YN8jRz8guzfh",
        "colab_type": "code",
        "colab": {}
      },
      "cell_type": "code",
      "source": [
        "bbb=bb['doi']"
      ],
      "execution_count": 0,
      "outputs": []
    }
  ]
}