{
  "nbformat": 4,
  "nbformat_minor": 0,
  "metadata": {
    "kernelspec": {
      "display_name": "Python 3",
      "language": "python",
      "name": "python3"
    },
    "language_info": {
      "codemirror_mode": {
        "name": "ipython",
        "version": 3
      },
      "file_extension": ".py",
      "mimetype": "text/x-python",
      "name": "python",
      "nbconvert_exporter": "python",
      "pygments_lexer": "ipython3",
      "version": "3.7.4"
    },
    "colab": {
      "name": "crossref.ipynb",
      "provenance": [],
      "include_colab_link": true
    }
  },
  "cells": [
    {
      "cell_type": "markdown",
      "metadata": {
        "id": "view-in-github",
        "colab_type": "text"
      },
      "source": [
        "<a href=\"https://colab.research.google.com/github/restrepo/tmp/blob/master/crossref.ipynb\" target=\"_parent\"><img src=\"https://colab.research.google.com/assets/colab-badge.svg\" alt=\"Open In Colab\"/></a>"
      ]
    },
    {
      "cell_type": "markdown",
      "metadata": {
        "id": "-Lp8A1wRLbMH",
        "colab_type": "text"
      },
      "source": [
        "# Crossref API"
      ]
    },
    {
      "cell_type": "code",
      "metadata": {
        "id": "kdP3nR3LLbMK",
        "colab_type": "code",
        "colab": {}
      },
      "source": [
        "import pandas as pd\n",
        "import getpass"
      ],
      "execution_count": 0,
      "outputs": []
    },
    {
      "cell_type": "markdown",
      "metadata": {
        "id": "9HCwTxD8LbMP",
        "colab_type": "text"
      },
      "source": [
        "Resources\n",
        "* API TUTORIAL: https://github.com/CrossRef/rest-api-doc\n",
        "* JSON Format: https://github.com/Crossref/rest-api-doc/blob/master/api_format.md"
      ]
    },
    {
      "cell_type": "markdown",
      "metadata": {
        "id": "MH7x42nRLbMQ",
        "colab_type": "text"
      },
      "source": [
        "## Search by Journal"
      ]
    },
    {
      "cell_type": "code",
      "metadata": {
        "id": "_xwEhKBbLpSN",
        "colab_type": "code",
        "colab": {
          "base_uri": "https://localhost:8080/",
          "height": 34
        },
        "outputId": "2f53bb3a-0b4f-4d04-eed9-97d8bd74cee2"
      },
      "source": [
        "email=getpass.getpass('Email:')"
      ],
      "execution_count": 3,
      "outputs": [
        {
          "output_type": "stream",
          "text": [
            "Email:··········\n"
          ],
          "name": "stdout"
        }
      ]
    },
    {
      "cell_type": "code",
      "metadata": {
        "id": "gqF_GkWGLbMR",
        "colab_type": "code",
        "colab": {}
      },
      "source": [
        "journal='kepes'\n",
        "items=200\n",
        "df=pd.read_json(\n",
        "    'https://api.crossref.org/works?query.container-title={}&rows={}&mailto={}'.format(\n",
        "    journal,items,email))"
      ],
      "execution_count": 0,
      "outputs": []
    },
    {
      "cell_type": "code",
      "metadata": {
        "id": "RSs96v3FMDn5",
        "colab_type": "code",
        "colab": {
          "base_uri": "https://localhost:8080/",
          "height": 34
        },
        "outputId": "f0558114-6304-443b-bd1e-fd1984d8e021"
      },
      "source": [
        "total_results=df.loc['total-results']['message']\n",
        "if items>total_results:\n",
        "    print('Enough rows: all the {} items have been downloaded'.format(total_results))\n",
        "else:\n",
        "    print('Missing items. Increase `rows` value')"
      ],
      "execution_count": 46,
      "outputs": [
        {
          "output_type": "stream",
          "text": [
            "Enough rows: all the 103 items have been downloaded\n"
          ],
          "name": "stdout"
        }
      ]
    },
    {
      "cell_type": "code",
      "metadata": {
        "id": "ViqbBg3sLbMU",
        "colab_type": "code",
        "colab": {
          "base_uri": "https://localhost:8080/",
          "height": 1000
        },
        "outputId": "c061e9f3-264b-4070-810c-53577a1da262"
      },
      "source": [
        "dfi=pd.DataFrame(\n",
        "    df.loc['items']['message'])\n",
        "dfi"
      ],
      "execution_count": 19,
      "outputs": [
        {
          "output_type": "execute_result",
          "data": {
            "text/html": [
              "<div>\n",
              "<style scoped>\n",
              "    .dataframe tbody tr th:only-of-type {\n",
              "        vertical-align: middle;\n",
              "    }\n",
              "\n",
              "    .dataframe tbody tr th {\n",
              "        vertical-align: top;\n",
              "    }\n",
              "\n",
              "    .dataframe thead th {\n",
              "        text-align: right;\n",
              "    }\n",
              "</style>\n",
              "<table border=\"1\" class=\"dataframe\">\n",
              "  <thead>\n",
              "    <tr style=\"text-align: right;\">\n",
              "      <th></th>\n",
              "      <th>indexed</th>\n",
              "      <th>reference-count</th>\n",
              "      <th>publisher</th>\n",
              "      <th>issue</th>\n",
              "      <th>content-domain</th>\n",
              "      <th>short-container-title</th>\n",
              "      <th>published-print</th>\n",
              "      <th>DOI</th>\n",
              "      <th>type</th>\n",
              "      <th>created</th>\n",
              "      <th>page</th>\n",
              "      <th>source</th>\n",
              "      <th>is-referenced-by-count</th>\n",
              "      <th>title</th>\n",
              "      <th>prefix</th>\n",
              "      <th>volume</th>\n",
              "      <th>author</th>\n",
              "      <th>member</th>\n",
              "      <th>container-title</th>\n",
              "      <th>deposited</th>\n",
              "      <th>score</th>\n",
              "      <th>issued</th>\n",
              "      <th>references-count</th>\n",
              "      <th>journal-issue</th>\n",
              "      <th>URL</th>\n",
              "      <th>ISSN</th>\n",
              "      <th>issn-type</th>\n",
              "      <th>original-title</th>\n",
              "      <th>subject</th>\n",
              "      <th>isbn-type</th>\n",
              "      <th>ISBN</th>\n",
              "    </tr>\n",
              "  </thead>\n",
              "  <tbody>\n",
              "    <tr>\n",
              "      <th>0</th>\n",
              "      <td>{'date-parts': [[2019, 11, 25]], 'date-time': ...</td>\n",
              "      <td>0</td>\n",
              "      <td>Universidad de Caldas</td>\n",
              "      <td>11</td>\n",
              "      <td>{'domain': [], 'crossmark-restriction': False}</td>\n",
              "      <td>[kepes]</td>\n",
              "      <td>{'date-parts': [[2015, 6, 6]]}</td>\n",
              "      <td>10.17151/kepes.2015.12.11.1</td>\n",
              "      <td>journal-article</td>\n",
              "      <td>{'date-parts': [[2015, 8, 10]], 'date-time': '...</td>\n",
              "      <td>05-08</td>\n",
              "      <td>Crossref</td>\n",
              "      <td>1</td>\n",
              "      <td>[Presentación]</td>\n",
              "      <td>10.17151</td>\n",
              "      <td>12</td>\n",
              "      <td>[{'given': 'Gustavo A.', 'family': 'Villa Carm...</td>\n",
              "      <td>6792</td>\n",
              "      <td>[Kepes]</td>\n",
              "      <td>{'date-parts': [[2015, 8, 10]], 'date-time': '...</td>\n",
              "      <td>20.482838</td>\n",
              "      <td>{'date-parts': [[2015, 6, 6]]}</td>\n",
              "      <td>0</td>\n",
              "      <td>{'published-print': {'date-parts': [[2015, 6, ...</td>\n",
              "      <td>http://dx.doi.org/10.17151/kepes.2015.12.11.1</td>\n",
              "      <td>[1794-7111, 2462-8115]</td>\n",
              "      <td>[{'value': '1794-7111', 'type': 'print'}, {'va...</td>\n",
              "      <td>NaN</td>\n",
              "      <td>NaN</td>\n",
              "      <td>NaN</td>\n",
              "      <td>NaN</td>\n",
              "    </tr>\n",
              "    <tr>\n",
              "      <th>1</th>\n",
              "      <td>{'date-parts': [[2019, 11, 25]], 'date-time': ...</td>\n",
              "      <td>0</td>\n",
              "      <td>Universidad de Caldas</td>\n",
              "      <td>11</td>\n",
              "      <td>{'domain': [], 'crossmark-restriction': False}</td>\n",
              "      <td>[kepes]</td>\n",
              "      <td>{'date-parts': [[2015, 6, 6]]}</td>\n",
              "      <td>10.17151/kepes.2015.12.11</td>\n",
              "      <td>journal-issue</td>\n",
              "      <td>{'date-parts': [[2015, 8, 10]], 'date-time': '...</td>\n",
              "      <td>NaN</td>\n",
              "      <td>Crossref</td>\n",
              "      <td>0</td>\n",
              "      <td>NaN</td>\n",
              "      <td>10.17151</td>\n",
              "      <td>12</td>\n",
              "      <td>NaN</td>\n",
              "      <td>6792</td>\n",
              "      <td>[Kepes]</td>\n",
              "      <td>{'date-parts': [[2015, 8, 10]], 'date-time': '...</td>\n",
              "      <td>20.482838</td>\n",
              "      <td>{'date-parts': [[2015, 6, 6]]}</td>\n",
              "      <td>0</td>\n",
              "      <td>{'published-print': {'date-parts': [[2015, 6, ...</td>\n",
              "      <td>http://dx.doi.org/10.17151/kepes.2015.12.11</td>\n",
              "      <td>[1794-7111, 2462-8115]</td>\n",
              "      <td>[{'value': '1794-7111', 'type': 'print'}, {'va...</td>\n",
              "      <td>NaN</td>\n",
              "      <td>NaN</td>\n",
              "      <td>NaN</td>\n",
              "      <td>NaN</td>\n",
              "    </tr>\n",
              "    <tr>\n",
              "      <th>2</th>\n",
              "      <td>{'date-parts': [[2019, 11, 25]], 'date-time': ...</td>\n",
              "      <td>0</td>\n",
              "      <td>Universidad de Caldas</td>\n",
              "      <td>11</td>\n",
              "      <td>{'domain': [], 'crossmark-restriction': False}</td>\n",
              "      <td>[kepes]</td>\n",
              "      <td>{'date-parts': [[2015, 6, 6]]}</td>\n",
              "      <td>10.17151/kepes.2015.12.11.2</td>\n",
              "      <td>journal-article</td>\n",
              "      <td>{'date-parts': [[2015, 8, 10]], 'date-time': '...</td>\n",
              "      <td>09-33</td>\n",
              "      <td>Crossref</td>\n",
              "      <td>0</td>\n",
              "      <td>[Los memes y el diseño: contraste entre mensaj...</td>\n",
              "      <td>10.17151</td>\n",
              "      <td>12</td>\n",
              "      <td>[{'given': 'Walter', 'family': 'Castañeda M', ...</td>\n",
              "      <td>6792</td>\n",
              "      <td>[Kepes]</td>\n",
              "      <td>{'date-parts': [[2015, 8, 10]], 'date-time': '...</td>\n",
              "      <td>20.482838</td>\n",
              "      <td>{'date-parts': [[2015, 6, 6]]}</td>\n",
              "      <td>0</td>\n",
              "      <td>{'published-print': {'date-parts': [[2015, 6, ...</td>\n",
              "      <td>http://dx.doi.org/10.17151/kepes.2015.12.11.2</td>\n",
              "      <td>[1794-7111, 2462-8115]</td>\n",
              "      <td>[{'value': '1794-7111', 'type': 'print'}, {'va...</td>\n",
              "      <td>NaN</td>\n",
              "      <td>NaN</td>\n",
              "      <td>NaN</td>\n",
              "      <td>NaN</td>\n",
              "    </tr>\n",
              "    <tr>\n",
              "      <th>3</th>\n",
              "      <td>{'date-parts': [[2019, 11, 25]], 'date-time': ...</td>\n",
              "      <td>0</td>\n",
              "      <td>Universidad de Caldas</td>\n",
              "      <td>11</td>\n",
              "      <td>{'domain': [], 'crossmark-restriction': False}</td>\n",
              "      <td>[kepes]</td>\n",
              "      <td>{'date-parts': [[2015, 6, 6]]}</td>\n",
              "      <td>10.17151/kepes.2015.12.11.4</td>\n",
              "      <td>journal-article</td>\n",
              "      <td>{'date-parts': [[2015, 8, 10]], 'date-time': '...</td>\n",
              "      <td>61-81</td>\n",
              "      <td>Crossref</td>\n",
              "      <td>0</td>\n",
              "      <td>[Metodología para la creación de micromundos i...</td>\n",
              "      <td>10.17151</td>\n",
              "      <td>12</td>\n",
              "      <td>[{'given': 'Yelicza', 'family': 'Marín Giraldo...</td>\n",
              "      <td>6792</td>\n",
              "      <td>[Kepes]</td>\n",
              "      <td>{'date-parts': [[2015, 8, 10]], 'date-time': '...</td>\n",
              "      <td>20.482838</td>\n",
              "      <td>{'date-parts': [[2015, 6, 6]]}</td>\n",
              "      <td>0</td>\n",
              "      <td>{'published-print': {'date-parts': [[2015, 6, ...</td>\n",
              "      <td>http://dx.doi.org/10.17151/kepes.2015.12.11.4</td>\n",
              "      <td>[1794-7111, 2462-8115]</td>\n",
              "      <td>[{'value': '1794-7111', 'type': 'print'}, {'va...</td>\n",
              "      <td>NaN</td>\n",
              "      <td>NaN</td>\n",
              "      <td>NaN</td>\n",
              "      <td>NaN</td>\n",
              "    </tr>\n",
              "    <tr>\n",
              "      <th>4</th>\n",
              "      <td>{'date-parts': [[2019, 11, 25]], 'date-time': ...</td>\n",
              "      <td>0</td>\n",
              "      <td>Universidad de Caldas</td>\n",
              "      <td>11</td>\n",
              "      <td>{'domain': [], 'crossmark-restriction': False}</td>\n",
              "      <td>[kepes]</td>\n",
              "      <td>{'date-parts': [[2015, 6, 6]]}</td>\n",
              "      <td>10.17151/kepes.2015.12.11.5</td>\n",
              "      <td>journal-article</td>\n",
              "      <td>{'date-parts': [[2015, 8, 10]], 'date-time': '...</td>\n",
              "      <td>83-97</td>\n",
              "      <td>Crossref</td>\n",
              "      <td>0</td>\n",
              "      <td>[The Visual Archive: the self as author and ac...</td>\n",
              "      <td>10.17151</td>\n",
              "      <td>12</td>\n",
              "      <td>[{'given': 'Maria João', 'family': 'Baltazar',...</td>\n",
              "      <td>6792</td>\n",
              "      <td>[Kepes]</td>\n",
              "      <td>{'date-parts': [[2015, 8, 10]], 'date-time': '...</td>\n",
              "      <td>20.482838</td>\n",
              "      <td>{'date-parts': [[2015, 6, 6]]}</td>\n",
              "      <td>0</td>\n",
              "      <td>{'published-print': {'date-parts': [[2015, 6, ...</td>\n",
              "      <td>http://dx.doi.org/10.17151/kepes.2015.12.11.5</td>\n",
              "      <td>[1794-7111, 2462-8115]</td>\n",
              "      <td>[{'value': '1794-7111', 'type': 'print'}, {'va...</td>\n",
              "      <td>NaN</td>\n",
              "      <td>NaN</td>\n",
              "      <td>NaN</td>\n",
              "      <td>NaN</td>\n",
              "    </tr>\n",
              "    <tr>\n",
              "      <th>...</th>\n",
              "      <td>...</td>\n",
              "      <td>...</td>\n",
              "      <td>...</td>\n",
              "      <td>...</td>\n",
              "      <td>...</td>\n",
              "      <td>...</td>\n",
              "      <td>...</td>\n",
              "      <td>...</td>\n",
              "      <td>...</td>\n",
              "      <td>...</td>\n",
              "      <td>...</td>\n",
              "      <td>...</td>\n",
              "      <td>...</td>\n",
              "      <td>...</td>\n",
              "      <td>...</td>\n",
              "      <td>...</td>\n",
              "      <td>...</td>\n",
              "      <td>...</td>\n",
              "      <td>...</td>\n",
              "      <td>...</td>\n",
              "      <td>...</td>\n",
              "      <td>...</td>\n",
              "      <td>...</td>\n",
              "      <td>...</td>\n",
              "      <td>...</td>\n",
              "      <td>...</td>\n",
              "      <td>...</td>\n",
              "      <td>...</td>\n",
              "      <td>...</td>\n",
              "      <td>...</td>\n",
              "      <td>...</td>\n",
              "    </tr>\n",
              "    <tr>\n",
              "      <th>98</th>\n",
              "      <td>{'date-parts': [[2020, 1, 17]], 'date-time': '...</td>\n",
              "      <td>0</td>\n",
              "      <td>The MIT Press</td>\n",
              "      <td>NaN</td>\n",
              "      <td>{'domain': [], 'crossmark-restriction': False}</td>\n",
              "      <td>NaN</td>\n",
              "      <td>{'date-parts': [[2019]]}</td>\n",
              "      <td>10.7551/mitpress/11890.003.0012</td>\n",
              "      <td>book-chapter</td>\n",
              "      <td>{'date-parts': [[2020, 1, 17]], 'date-time': '...</td>\n",
              "      <td>NaN</td>\n",
              "      <td>Crossref</td>\n",
              "      <td>0</td>\n",
              "      <td>[Index]</td>\n",
              "      <td>10.7551</td>\n",
              "      <td>NaN</td>\n",
              "      <td>NaN</td>\n",
              "      <td>281</td>\n",
              "      <td>[Gyorgy Kepes]</td>\n",
              "      <td>{'date-parts': [[2020, 1, 17]], 'date-time': '...</td>\n",
              "      <td>16.937857</td>\n",
              "      <td>{'date-parts': [[2019]]}</td>\n",
              "      <td>0</td>\n",
              "      <td>NaN</td>\n",
              "      <td>http://dx.doi.org/10.7551/mitpress/11890.003.0012</td>\n",
              "      <td>NaN</td>\n",
              "      <td>NaN</td>\n",
              "      <td>NaN</td>\n",
              "      <td>NaN</td>\n",
              "      <td>[{'value': '9780262352994', 'type': 'print'}]</td>\n",
              "      <td>[9780262352994]</td>\n",
              "    </tr>\n",
              "    <tr>\n",
              "      <th>99</th>\n",
              "      <td>{'date-parts': [[2020, 1, 17]], 'date-time': '...</td>\n",
              "      <td>0</td>\n",
              "      <td>The MIT Press</td>\n",
              "      <td>NaN</td>\n",
              "      <td>{'domain': [], 'crossmark-restriction': False}</td>\n",
              "      <td>NaN</td>\n",
              "      <td>{'date-parts': [[2019]]}</td>\n",
              "      <td>10.7551/mitpress/11890.003.0011</td>\n",
              "      <td>book-chapter</td>\n",
              "      <td>{'date-parts': [[2020, 1, 17]], 'date-time': '...</td>\n",
              "      <td>NaN</td>\n",
              "      <td>Crossref</td>\n",
              "      <td>0</td>\n",
              "      <td>[Notes]</td>\n",
              "      <td>10.7551</td>\n",
              "      <td>NaN</td>\n",
              "      <td>NaN</td>\n",
              "      <td>281</td>\n",
              "      <td>[Gyorgy Kepes]</td>\n",
              "      <td>{'date-parts': [[2020, 1, 17]], 'date-time': '...</td>\n",
              "      <td>16.937857</td>\n",
              "      <td>{'date-parts': [[2019]]}</td>\n",
              "      <td>0</td>\n",
              "      <td>NaN</td>\n",
              "      <td>http://dx.doi.org/10.7551/mitpress/11890.003.0011</td>\n",
              "      <td>NaN</td>\n",
              "      <td>NaN</td>\n",
              "      <td>NaN</td>\n",
              "      <td>NaN</td>\n",
              "      <td>[{'value': '9780262352994', 'type': 'print'}]</td>\n",
              "      <td>[9780262352994]</td>\n",
              "    </tr>\n",
              "    <tr>\n",
              "      <th>100</th>\n",
              "      <td>{'date-parts': [[2020, 1, 17]], 'date-time': '...</td>\n",
              "      <td>0</td>\n",
              "      <td>The MIT Press</td>\n",
              "      <td>NaN</td>\n",
              "      <td>{'domain': [], 'crossmark-restriction': False}</td>\n",
              "      <td>NaN</td>\n",
              "      <td>{'date-parts': [[2019]]}</td>\n",
              "      <td>10.7551/mitpress/11890.003.0006</td>\n",
              "      <td>book-chapter</td>\n",
              "      <td>{'date-parts': [[2020, 1, 17]], 'date-time': '...</td>\n",
              "      <td>NaN</td>\n",
              "      <td>Crossref</td>\n",
              "      <td>0</td>\n",
              "      <td>[Vision as Value]</td>\n",
              "      <td>10.7551</td>\n",
              "      <td>NaN</td>\n",
              "      <td>NaN</td>\n",
              "      <td>281</td>\n",
              "      <td>[Gyorgy Kepes]</td>\n",
              "      <td>{'date-parts': [[2020, 1, 17]], 'date-time': '...</td>\n",
              "      <td>16.937857</td>\n",
              "      <td>{'date-parts': [[2019]]}</td>\n",
              "      <td>0</td>\n",
              "      <td>NaN</td>\n",
              "      <td>http://dx.doi.org/10.7551/mitpress/11890.003.0006</td>\n",
              "      <td>NaN</td>\n",
              "      <td>NaN</td>\n",
              "      <td>NaN</td>\n",
              "      <td>NaN</td>\n",
              "      <td>[{'value': '9780262352994', 'type': 'print'}]</td>\n",
              "      <td>[9780262352994]</td>\n",
              "    </tr>\n",
              "    <tr>\n",
              "      <th>101</th>\n",
              "      <td>{'date-parts': [[2020, 1, 17]], 'date-time': '...</td>\n",
              "      <td>0</td>\n",
              "      <td>The MIT Press</td>\n",
              "      <td>NaN</td>\n",
              "      <td>{'domain': [], 'crossmark-restriction': False}</td>\n",
              "      <td>NaN</td>\n",
              "      <td>{'date-parts': [[2019]]}</td>\n",
              "      <td>10.7551/mitpress/11890.003.0001</td>\n",
              "      <td>book-chapter</td>\n",
              "      <td>{'date-parts': [[2020, 1, 17]], 'date-time': '...</td>\n",
              "      <td>NaN</td>\n",
              "      <td>Crossref</td>\n",
              "      <td>0</td>\n",
              "      <td>[Acknowledgments]</td>\n",
              "      <td>10.7551</td>\n",
              "      <td>NaN</td>\n",
              "      <td>NaN</td>\n",
              "      <td>281</td>\n",
              "      <td>[Gyorgy Kepes]</td>\n",
              "      <td>{'date-parts': [[2020, 1, 17]], 'date-time': '...</td>\n",
              "      <td>16.937857</td>\n",
              "      <td>{'date-parts': [[2019]]}</td>\n",
              "      <td>0</td>\n",
              "      <td>NaN</td>\n",
              "      <td>http://dx.doi.org/10.7551/mitpress/11890.003.0001</td>\n",
              "      <td>NaN</td>\n",
              "      <td>NaN</td>\n",
              "      <td>NaN</td>\n",
              "      <td>NaN</td>\n",
              "      <td>[{'value': '9780262352994', 'type': 'print'}]</td>\n",
              "      <td>[9780262352994]</td>\n",
              "    </tr>\n",
              "    <tr>\n",
              "      <th>102</th>\n",
              "      <td>{'date-parts': [[2020, 1, 17]], 'date-time': '...</td>\n",
              "      <td>0</td>\n",
              "      <td>The MIT Press</td>\n",
              "      <td>NaN</td>\n",
              "      <td>{'domain': [], 'crossmark-restriction': False}</td>\n",
              "      <td>NaN</td>\n",
              "      <td>{'date-parts': [[2019]]}</td>\n",
              "      <td>10.7551/mitpress/11890.003.0004</td>\n",
              "      <td>book-chapter</td>\n",
              "      <td>{'date-parts': [[2020, 1, 17]], 'date-time': '...</td>\n",
              "      <td>NaN</td>\n",
              "      <td>Crossref</td>\n",
              "      <td>0</td>\n",
              "      <td>[Camouflage Aesthetics]</td>\n",
              "      <td>10.7551</td>\n",
              "      <td>NaN</td>\n",
              "      <td>NaN</td>\n",
              "      <td>281</td>\n",
              "      <td>[Gyorgy Kepes]</td>\n",
              "      <td>{'date-parts': [[2020, 1, 17]], 'date-time': '...</td>\n",
              "      <td>16.937857</td>\n",
              "      <td>{'date-parts': [[2019]]}</td>\n",
              "      <td>0</td>\n",
              "      <td>NaN</td>\n",
              "      <td>http://dx.doi.org/10.7551/mitpress/11890.003.0004</td>\n",
              "      <td>NaN</td>\n",
              "      <td>NaN</td>\n",
              "      <td>NaN</td>\n",
              "      <td>NaN</td>\n",
              "      <td>[{'value': '9780262352994', 'type': 'print'}]</td>\n",
              "      <td>[9780262352994]</td>\n",
              "    </tr>\n",
              "  </tbody>\n",
              "</table>\n",
              "<p>103 rows × 31 columns</p>\n",
              "</div>"
            ],
            "text/plain": [
              "                                               indexed  ...             ISBN\n",
              "0    {'date-parts': [[2019, 11, 25]], 'date-time': ...  ...              NaN\n",
              "1    {'date-parts': [[2019, 11, 25]], 'date-time': ...  ...              NaN\n",
              "2    {'date-parts': [[2019, 11, 25]], 'date-time': ...  ...              NaN\n",
              "3    {'date-parts': [[2019, 11, 25]], 'date-time': ...  ...              NaN\n",
              "4    {'date-parts': [[2019, 11, 25]], 'date-time': ...  ...              NaN\n",
              "..                                                 ...  ...              ...\n",
              "98   {'date-parts': [[2020, 1, 17]], 'date-time': '...  ...  [9780262352994]\n",
              "99   {'date-parts': [[2020, 1, 17]], 'date-time': '...  ...  [9780262352994]\n",
              "100  {'date-parts': [[2020, 1, 17]], 'date-time': '...  ...  [9780262352994]\n",
              "101  {'date-parts': [[2020, 1, 17]], 'date-time': '...  ...  [9780262352994]\n",
              "102  {'date-parts': [[2020, 1, 17]], 'date-time': '...  ...  [9780262352994]\n",
              "\n",
              "[103 rows x 31 columns]"
            ]
          },
          "metadata": {
            "tags": []
          },
          "execution_count": 19
        }
      ]
    },
    {
      "cell_type": "code",
      "metadata": {
        "id": "caZcHXkvNvV2",
        "colab_type": "code",
        "colab": {
          "base_uri": "https://localhost:8080/",
          "height": 85
        },
        "outputId": "a4463002-0de8-468f-d068-08af5faad255"
      },
      "source": [
        "dfi.author.loc[2]"
      ],
      "execution_count": 25,
      "outputs": [
        {
          "output_type": "execute_result",
          "data": {
            "text/plain": [
              "[{'affiliation': [],\n",
              "  'family': 'Castañeda M',\n",
              "  'given': 'Walter',\n",
              "  'sequence': 'first'}]"
            ]
          },
          "metadata": {
            "tags": []
          },
          "execution_count": 25
        }
      ]
    },
    {
      "cell_type": "code",
      "metadata": {
        "id": "A9K8FrLIT5lj",
        "colab_type": "code",
        "colab": {}
      },
      "source": [
        "i=dfi[dfi.title.astype(str).str.lower().str.contains('lado oscuro')].index.values[0]"
      ],
      "execution_count": 0,
      "outputs": []
    },
    {
      "cell_type": "code",
      "metadata": {
        "id": "yAFqEIaWUTKs",
        "colab_type": "code",
        "colab": {
          "base_uri": "https://localhost:8080/",
          "height": 291
        },
        "outputId": "cd5c996b-1c7f-4262-a878-bb3f073fd062"
      },
      "source": [
        "\n",
        "dfi.author.loc[i]"
      ],
      "execution_count": 45,
      "outputs": [
        {
          "output_type": "execute_result",
          "data": {
            "text/plain": [
              "[{'ORCID': 'http://orcid.org/0000-0002-9102-9583',\n",
              "  'affiliation': [],\n",
              "  'authenticated-orcid': False,\n",
              "  'family': 'Martínez-García',\n",
              "  'given': 'Ángeles',\n",
              "  'sequence': 'first'},\n",
              " {'affiliation': [], 'name': 'Universidad de Sevilla', 'sequence': 'first'},\n",
              " {'ORCID': 'http://orcid.org/0000-0003-2819-3441',\n",
              "  'affiliation': [],\n",
              "  'authenticated-orcid': False,\n",
              "  'family': 'Gómez-Aguilar',\n",
              "  'given': 'Antonio',\n",
              "  'sequence': 'additional'},\n",
              " {'affiliation': [],\n",
              "  'name': 'Universidad de Sevilla',\n",
              "  'sequence': 'additional'}]"
            ]
          },
          "metadata": {
            "tags": []
          },
          "execution_count": 45
        }
      ]
    },
    {
      "cell_type": "code",
      "metadata": {
        "id": "lZeYzmHJSY9N",
        "colab_type": "code",
        "colab": {}
      },
      "source": [
        "doi=pd.read_json( 'https://api.crossref.org/works/{}'.format(dfi.DOI.loc[67]) )"
      ],
      "execution_count": 0,
      "outputs": []
    },
    {
      "cell_type": "code",
      "metadata": {
        "id": "S3OQHaThSpiW",
        "colab_type": "code",
        "colab": {
          "base_uri": "https://localhost:8080/",
          "height": 291
        },
        "outputId": "6955073c-1bee-445d-860d-784748844a63"
      },
      "source": [
        "doi.loc['author']['message']"
      ],
      "execution_count": 40,
      "outputs": [
        {
          "output_type": "execute_result",
          "data": {
            "text/plain": [
              "[{'ORCID': 'http://orcid.org/0000-0002-9102-9583',\n",
              "  'affiliation': [],\n",
              "  'authenticated-orcid': False,\n",
              "  'family': 'Martínez-García',\n",
              "  'given': 'Ángeles',\n",
              "  'sequence': 'first'},\n",
              " {'affiliation': [], 'name': 'Universidad de Sevilla', 'sequence': 'first'},\n",
              " {'ORCID': 'http://orcid.org/0000-0003-2819-3441',\n",
              "  'affiliation': [],\n",
              "  'authenticated-orcid': False,\n",
              "  'family': 'Gómez-Aguilar',\n",
              "  'given': 'Antonio',\n",
              "  'sequence': 'additional'},\n",
              " {'affiliation': [],\n",
              "  'name': 'Universidad de Sevilla',\n",
              "  'sequence': 'additional'}]"
            ]
          },
          "metadata": {
            "tags": []
          },
          "execution_count": 40
        }
      ]
    },
    {
      "cell_type": "code",
      "metadata": {
        "id": "8eAuTdQhTM16",
        "colab_type": "code",
        "colab": {}
      },
      "source": [
        ""
      ],
      "execution_count": 0,
      "outputs": []
    }
  ]
}